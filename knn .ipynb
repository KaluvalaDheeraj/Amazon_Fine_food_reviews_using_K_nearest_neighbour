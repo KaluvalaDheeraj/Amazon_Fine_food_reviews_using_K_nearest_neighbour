{
 "cells": [
  {
   "cell_type": "markdown",
   "metadata": {
    "colab_type": "text",
    "collapsed": true,
    "id": "1odOhOdDgj5M"
   },
   "source": [
    "# KNN Assignment For Amazon Reviews"
   ]
  },
  {
   "cell_type": "code",
   "execution_count": 0,
   "metadata": {
    "colab": {},
    "colab_type": "code",
    "id": "pGEL4icTjnd_"
   },
   "outputs": [],
   "source": [
    "%matplotlib inline\n",
    "import warnings\n",
    "warnings.filterwarnings(\"ignore\")\n",
    "\n",
    "\n",
    "import sqlite3\n",
    "import pandas as pd\n",
    "import numpy as np\n",
    "import nltk\n",
    "import string\n",
    "import matplotlib.pyplot as plt\n",
    "import seaborn as sns\n",
    "from sklearn.feature_extraction.text import TfidfTransformer\n",
    "from sklearn.feature_extraction.text import TfidfVectorizer\n",
    "\n",
    "from sklearn.feature_extraction.text import CountVectorizer\n",
    "from sklearn.metrics import confusion_matrix\n",
    "from sklearn import metrics\n",
    "from sklearn.metrics import roc_curve, auc\n",
    "from nltk.stem.porter import PorterStemmer\n",
    "\n",
    "import re\n",
    "# Tutorial about Python regular expressions: https://pymotw.com/2/re/\n",
    "import string\n",
    "from nltk.corpus import stopwords\n",
    "from nltk.stem import PorterStemmer\n",
    "from nltk.stem.wordnet import WordNetLemmatizer\n",
    "\n",
    "from gensim.models import Word2Vec\n",
    "from gensim.models import KeyedVectors\n",
    "import pickle\n",
    "\n",
    "from tqdm import tqdm\n",
    "import os"
   ]
  },
  {
   "cell_type": "code",
   "execution_count": 3,
   "metadata": {
    "colab": {
     "base_uri": "https://localhost:8080/",
     "height": 244
    },
    "colab_type": "code",
    "id": "NqDlw5pujrFN",
    "outputId": "15694f9c-7cbc-41dd-c021-b452315f5bf9"
   },
   "outputs": [
    {
     "name": "stdout",
     "output_type": "stream",
     "text": [
      "Number of data points in our data (200000, 10)\n"
     ]
    },
    {
     "data": {
      "text/html": [
       "<div>\n",
       "<style scoped>\n",
       "    .dataframe tbody tr th:only-of-type {\n",
       "        vertical-align: middle;\n",
       "    }\n",
       "\n",
       "    .dataframe tbody tr th {\n",
       "        vertical-align: top;\n",
       "    }\n",
       "\n",
       "    .dataframe thead th {\n",
       "        text-align: right;\n",
       "    }\n",
       "</style>\n",
       "<table border=\"1\" class=\"dataframe\">\n",
       "  <thead>\n",
       "    <tr style=\"text-align: right;\">\n",
       "      <th></th>\n",
       "      <th>Id</th>\n",
       "      <th>ProductId</th>\n",
       "      <th>UserId</th>\n",
       "      <th>ProfileName</th>\n",
       "      <th>HelpfulnessNumerator</th>\n",
       "      <th>HelpfulnessDenominator</th>\n",
       "      <th>Score</th>\n",
       "      <th>Time</th>\n",
       "      <th>Summary</th>\n",
       "      <th>Text</th>\n",
       "    </tr>\n",
       "  </thead>\n",
       "  <tbody>\n",
       "    <tr>\n",
       "      <th>0</th>\n",
       "      <td>1</td>\n",
       "      <td>B001E4KFG0</td>\n",
       "      <td>A3SGXH7AUHU8GW</td>\n",
       "      <td>delmartian</td>\n",
       "      <td>1</td>\n",
       "      <td>1</td>\n",
       "      <td>1</td>\n",
       "      <td>1303862400</td>\n",
       "      <td>Good Quality Dog Food</td>\n",
       "      <td>I have bought several of the Vitality canned d...</td>\n",
       "    </tr>\n",
       "    <tr>\n",
       "      <th>1</th>\n",
       "      <td>2</td>\n",
       "      <td>B00813GRG4</td>\n",
       "      <td>A1D87F6ZCVE5NK</td>\n",
       "      <td>dll pa</td>\n",
       "      <td>0</td>\n",
       "      <td>0</td>\n",
       "      <td>0</td>\n",
       "      <td>1346976000</td>\n",
       "      <td>Not as Advertised</td>\n",
       "      <td>Product arrived labeled as Jumbo Salted Peanut...</td>\n",
       "    </tr>\n",
       "    <tr>\n",
       "      <th>2</th>\n",
       "      <td>3</td>\n",
       "      <td>B000LQOCH0</td>\n",
       "      <td>ABXLMWJIXXAIN</td>\n",
       "      <td>Natalia Corres \"Natalia Corres\"</td>\n",
       "      <td>1</td>\n",
       "      <td>1</td>\n",
       "      <td>1</td>\n",
       "      <td>1219017600</td>\n",
       "      <td>\"Delight\" says it all</td>\n",
       "      <td>This is a confection that has been around a fe...</td>\n",
       "    </tr>\n",
       "  </tbody>\n",
       "</table>\n",
       "</div>"
      ],
      "text/plain": [
       "   Id   ProductId          UserId                      ProfileName  \\\n",
       "0   1  B001E4KFG0  A3SGXH7AUHU8GW                       delmartian   \n",
       "1   2  B00813GRG4  A1D87F6ZCVE5NK                           dll pa   \n",
       "2   3  B000LQOCH0   ABXLMWJIXXAIN  Natalia Corres \"Natalia Corres\"   \n",
       "\n",
       "   HelpfulnessNumerator  HelpfulnessDenominator  Score        Time  \\\n",
       "0                     1                       1      1  1303862400   \n",
       "1                     0                       0      0  1346976000   \n",
       "2                     1                       1      1  1219017600   \n",
       "\n",
       "                 Summary                                               Text  \n",
       "0  Good Quality Dog Food  I have bought several of the Vitality canned d...  \n",
       "1      Not as Advertised  Product arrived labeled as Jumbo Salted Peanut...  \n",
       "2  \"Delight\" says it all  This is a confection that has been around a fe...  "
      ]
     },
     "execution_count": 3,
     "metadata": {
      "tags": []
     },
     "output_type": "execute_result"
    }
   ],
   "source": [
    "\n",
    "# using SQLite Table to read data.\n",
    "con = sqlite3.connect('/content/drive/My Drive/database.sqlite') \n",
    "\n",
    "# filtering only positive and negative reviews i.e. \n",
    "# not taking into consideration those reviews with Score=3\n",
    "# SELECT * FROM Reviews WHERE Score != 3 LIMIT 500000, will give top 500000 data points\n",
    "# you can change the number to any other number based on your computing power\n",
    "\n",
    "# filtered_data = pd.read_sql_query(\"\"\" SELECT * FROM Reviews WHERE Score != 3 LIMIT 500000\"\"\", con) \n",
    "# for tsne assignment you can take 5k data points\n",
    "\n",
    "filtered_data = pd.read_sql_query(\"\"\" SELECT * FROM Reviews WHERE Score != 3 LIMIT 200000 \"\"\", con) \n",
    "\n",
    "# Give reviews with Score>3 a positive rating(1), and reviews with a score<3 a negative rating(0).\n",
    "def partition(x):\n",
    "    if x < 3:\n",
    "        return 0\n",
    "    return 1\n",
    "\n",
    "#changing reviews with score less than 3 to be positive and vice-versa\n",
    "actualScore = filtered_data['Score']\n",
    "positiveNegative = actualScore.map(partition) \n",
    "filtered_data['Score'] = positiveNegative\n",
    "print(\"Number of data points in our data\", filtered_data.shape)\n",
    "filtered_data.head(3)"
   ]
  },
  {
   "cell_type": "code",
   "execution_count": 4,
   "metadata": {
    "colab": {
     "base_uri": "https://localhost:8080/",
     "height": 128
    },
    "colab_type": "code",
    "id": "CxibVeJRj1mw",
    "outputId": "45d5c0f6-8bca-4d87-9057-9d10b6f2e307"
   },
   "outputs": [
    {
     "name": "stdout",
     "output_type": "stream",
     "text": [
      "(80668, 7)\n"
     ]
    },
    {
     "data": {
      "text/html": [
       "<div>\n",
       "<style scoped>\n",
       "    .dataframe tbody tr th:only-of-type {\n",
       "        vertical-align: middle;\n",
       "    }\n",
       "\n",
       "    .dataframe tbody tr th {\n",
       "        vertical-align: top;\n",
       "    }\n",
       "\n",
       "    .dataframe thead th {\n",
       "        text-align: right;\n",
       "    }\n",
       "</style>\n",
       "<table border=\"1\" class=\"dataframe\">\n",
       "  <thead>\n",
       "    <tr style=\"text-align: right;\">\n",
       "      <th></th>\n",
       "      <th>UserId</th>\n",
       "      <th>ProductId</th>\n",
       "      <th>ProfileName</th>\n",
       "      <th>Time</th>\n",
       "      <th>Score</th>\n",
       "      <th>Text</th>\n",
       "      <th>COUNT(*)</th>\n",
       "    </tr>\n",
       "  </thead>\n",
       "  <tbody>\n",
       "    <tr>\n",
       "      <th>0</th>\n",
       "      <td>#oc-R115TNMSPFT9I7</td>\n",
       "      <td>B007Y59HVM</td>\n",
       "      <td>Breyton</td>\n",
       "      <td>1331510400</td>\n",
       "      <td>2</td>\n",
       "      <td>Overall its just OK when considering the price...</td>\n",
       "      <td>2</td>\n",
       "    </tr>\n",
       "    <tr>\n",
       "      <th>1</th>\n",
       "      <td>#oc-R11D9D7SHXIJB9</td>\n",
       "      <td>B005HG9ET0</td>\n",
       "      <td>Louis E. Emory \"hoppy\"</td>\n",
       "      <td>1342396800</td>\n",
       "      <td>5</td>\n",
       "      <td>My wife has recurring extreme muscle spasms, u...</td>\n",
       "      <td>3</td>\n",
       "    </tr>\n",
       "  </tbody>\n",
       "</table>\n",
       "</div>"
      ],
      "text/plain": [
       "               UserId   ProductId             ProfileName        Time  Score  \\\n",
       "0  #oc-R115TNMSPFT9I7  B007Y59HVM                 Breyton  1331510400      2   \n",
       "1  #oc-R11D9D7SHXIJB9  B005HG9ET0  Louis E. Emory \"hoppy\"  1342396800      5   \n",
       "\n",
       "                                                Text  COUNT(*)  \n",
       "0  Overall its just OK when considering the price...         2  \n",
       "1  My wife has recurring extreme muscle spasms, u...         3  "
      ]
     },
     "execution_count": 4,
     "metadata": {
      "tags": []
     },
     "output_type": "execute_result"
    }
   ],
   "source": [
    "display = pd.read_sql_query(\"\"\"\n",
    "SELECT UserId, ProductId, ProfileName, Time, Score, Text, COUNT(*)\n",
    "FROM Reviews\n",
    "GROUP BY UserId\n",
    "HAVING COUNT(*)>1\n",
    "\"\"\", con)\n",
    "print(display.shape)\n",
    "display.head(2)"
   ]
  },
  {
   "cell_type": "code",
   "execution_count": 5,
   "metadata": {
    "colab": {
     "base_uri": "https://localhost:8080/",
     "height": 80
    },
    "colab_type": "code",
    "id": "jX3zW5wCj2xy",
    "outputId": "eaf1f1a6-39e2-4966-b791-a6b4b0022f4e"
   },
   "outputs": [
    {
     "data": {
      "text/html": [
       "<div>\n",
       "<style scoped>\n",
       "    .dataframe tbody tr th:only-of-type {\n",
       "        vertical-align: middle;\n",
       "    }\n",
       "\n",
       "    .dataframe tbody tr th {\n",
       "        vertical-align: top;\n",
       "    }\n",
       "\n",
       "    .dataframe thead th {\n",
       "        text-align: right;\n",
       "    }\n",
       "</style>\n",
       "<table border=\"1\" class=\"dataframe\">\n",
       "  <thead>\n",
       "    <tr style=\"text-align: right;\">\n",
       "      <th></th>\n",
       "      <th>UserId</th>\n",
       "      <th>ProductId</th>\n",
       "      <th>ProfileName</th>\n",
       "      <th>Time</th>\n",
       "      <th>Score</th>\n",
       "      <th>Text</th>\n",
       "      <th>COUNT(*)</th>\n",
       "    </tr>\n",
       "  </thead>\n",
       "  <tbody>\n",
       "    <tr>\n",
       "      <th>80638</th>\n",
       "      <td>AZY10LLTJ71NX</td>\n",
       "      <td>B006P7E5ZI</td>\n",
       "      <td>undertheshrine \"undertheshrine\"</td>\n",
       "      <td>1334707200</td>\n",
       "      <td>5</td>\n",
       "      <td>I was recommended to try green tea extract to ...</td>\n",
       "      <td>5</td>\n",
       "    </tr>\n",
       "  </tbody>\n",
       "</table>\n",
       "</div>"
      ],
      "text/plain": [
       "              UserId   ProductId                      ProfileName        Time  \\\n",
       "80638  AZY10LLTJ71NX  B006P7E5ZI  undertheshrine \"undertheshrine\"  1334707200   \n",
       "\n",
       "       Score                                               Text  COUNT(*)  \n",
       "80638      5  I was recommended to try green tea extract to ...         5  "
      ]
     },
     "execution_count": 5,
     "metadata": {
      "tags": []
     },
     "output_type": "execute_result"
    }
   ],
   "source": [
    "display[display['UserId']=='AZY10LLTJ71NX']"
   ]
  },
  {
   "cell_type": "code",
   "execution_count": 6,
   "metadata": {
    "colab": {
     "base_uri": "https://localhost:8080/",
     "height": 34
    },
    "colab_type": "code",
    "id": "sVDSJhbtkISD",
    "outputId": "b07fd467-bb80-4bc6-ace9-b5ad15e0301b"
   },
   "outputs": [
    {
     "data": {
      "text/plain": [
       "393063"
      ]
     },
     "execution_count": 6,
     "metadata": {
      "tags": []
     },
     "output_type": "execute_result"
    }
   ],
   "source": [
    "display['COUNT(*)'].sum() # Total sum"
   ]
  },
  {
   "cell_type": "code",
   "execution_count": 7,
   "metadata": {
    "colab": {
     "base_uri": "https://localhost:8080/",
     "height": 459
    },
    "colab_type": "code",
    "id": "BUCmWXPrkWrc",
    "outputId": "82205043-5a66-45f6-87d0-346cc7d5b877"
   },
   "outputs": [
    {
     "data": {
      "text/html": [
       "<div>\n",
       "<style scoped>\n",
       "    .dataframe tbody tr th:only-of-type {\n",
       "        vertical-align: middle;\n",
       "    }\n",
       "\n",
       "    .dataframe tbody tr th {\n",
       "        vertical-align: top;\n",
       "    }\n",
       "\n",
       "    .dataframe thead th {\n",
       "        text-align: right;\n",
       "    }\n",
       "</style>\n",
       "<table border=\"1\" class=\"dataframe\">\n",
       "  <thead>\n",
       "    <tr style=\"text-align: right;\">\n",
       "      <th></th>\n",
       "      <th>Id</th>\n",
       "      <th>ProductId</th>\n",
       "      <th>UserId</th>\n",
       "      <th>ProfileName</th>\n",
       "      <th>HelpfulnessNumerator</th>\n",
       "      <th>HelpfulnessDenominator</th>\n",
       "      <th>Score</th>\n",
       "      <th>Time</th>\n",
       "      <th>Summary</th>\n",
       "      <th>Text</th>\n",
       "    </tr>\n",
       "  </thead>\n",
       "  <tbody>\n",
       "    <tr>\n",
       "      <th>0</th>\n",
       "      <td>78445</td>\n",
       "      <td>B000HDL1RQ</td>\n",
       "      <td>AR5J8UI46CURR</td>\n",
       "      <td>Geetha Krishnan</td>\n",
       "      <td>2</td>\n",
       "      <td>2</td>\n",
       "      <td>5</td>\n",
       "      <td>1199577600</td>\n",
       "      <td>LOACKER QUADRATINI VANILLA WAFERS</td>\n",
       "      <td>DELICIOUS WAFERS. I FIND THAT EUROPEAN WAFERS ...</td>\n",
       "    </tr>\n",
       "    <tr>\n",
       "      <th>1</th>\n",
       "      <td>138317</td>\n",
       "      <td>B000HDOPYC</td>\n",
       "      <td>AR5J8UI46CURR</td>\n",
       "      <td>Geetha Krishnan</td>\n",
       "      <td>2</td>\n",
       "      <td>2</td>\n",
       "      <td>5</td>\n",
       "      <td>1199577600</td>\n",
       "      <td>LOACKER QUADRATINI VANILLA WAFERS</td>\n",
       "      <td>DELICIOUS WAFERS. I FIND THAT EUROPEAN WAFERS ...</td>\n",
       "    </tr>\n",
       "    <tr>\n",
       "      <th>2</th>\n",
       "      <td>138277</td>\n",
       "      <td>B000HDOPYM</td>\n",
       "      <td>AR5J8UI46CURR</td>\n",
       "      <td>Geetha Krishnan</td>\n",
       "      <td>2</td>\n",
       "      <td>2</td>\n",
       "      <td>5</td>\n",
       "      <td>1199577600</td>\n",
       "      <td>LOACKER QUADRATINI VANILLA WAFERS</td>\n",
       "      <td>DELICIOUS WAFERS. I FIND THAT EUROPEAN WAFERS ...</td>\n",
       "    </tr>\n",
       "    <tr>\n",
       "      <th>3</th>\n",
       "      <td>73791</td>\n",
       "      <td>B000HDOPZG</td>\n",
       "      <td>AR5J8UI46CURR</td>\n",
       "      <td>Geetha Krishnan</td>\n",
       "      <td>2</td>\n",
       "      <td>2</td>\n",
       "      <td>5</td>\n",
       "      <td>1199577600</td>\n",
       "      <td>LOACKER QUADRATINI VANILLA WAFERS</td>\n",
       "      <td>DELICIOUS WAFERS. I FIND THAT EUROPEAN WAFERS ...</td>\n",
       "    </tr>\n",
       "    <tr>\n",
       "      <th>4</th>\n",
       "      <td>155049</td>\n",
       "      <td>B000PAQ75C</td>\n",
       "      <td>AR5J8UI46CURR</td>\n",
       "      <td>Geetha Krishnan</td>\n",
       "      <td>2</td>\n",
       "      <td>2</td>\n",
       "      <td>5</td>\n",
       "      <td>1199577600</td>\n",
       "      <td>LOACKER QUADRATINI VANILLA WAFERS</td>\n",
       "      <td>DELICIOUS WAFERS. I FIND THAT EUROPEAN WAFERS ...</td>\n",
       "    </tr>\n",
       "  </tbody>\n",
       "</table>\n",
       "</div>"
      ],
      "text/plain": [
       "       Id   ProductId         UserId      ProfileName  HelpfulnessNumerator  \\\n",
       "0   78445  B000HDL1RQ  AR5J8UI46CURR  Geetha Krishnan                     2   \n",
       "1  138317  B000HDOPYC  AR5J8UI46CURR  Geetha Krishnan                     2   \n",
       "2  138277  B000HDOPYM  AR5J8UI46CURR  Geetha Krishnan                     2   \n",
       "3   73791  B000HDOPZG  AR5J8UI46CURR  Geetha Krishnan                     2   \n",
       "4  155049  B000PAQ75C  AR5J8UI46CURR  Geetha Krishnan                     2   \n",
       "\n",
       "   HelpfulnessDenominator  Score        Time  \\\n",
       "0                       2      5  1199577600   \n",
       "1                       2      5  1199577600   \n",
       "2                       2      5  1199577600   \n",
       "3                       2      5  1199577600   \n",
       "4                       2      5  1199577600   \n",
       "\n",
       "                             Summary  \\\n",
       "0  LOACKER QUADRATINI VANILLA WAFERS   \n",
       "1  LOACKER QUADRATINI VANILLA WAFERS   \n",
       "2  LOACKER QUADRATINI VANILLA WAFERS   \n",
       "3  LOACKER QUADRATINI VANILLA WAFERS   \n",
       "4  LOACKER QUADRATINI VANILLA WAFERS   \n",
       "\n",
       "                                                Text  \n",
       "0  DELICIOUS WAFERS. I FIND THAT EUROPEAN WAFERS ...  \n",
       "1  DELICIOUS WAFERS. I FIND THAT EUROPEAN WAFERS ...  \n",
       "2  DELICIOUS WAFERS. I FIND THAT EUROPEAN WAFERS ...  \n",
       "3  DELICIOUS WAFERS. I FIND THAT EUROPEAN WAFERS ...  \n",
       "4  DELICIOUS WAFERS. I FIND THAT EUROPEAN WAFERS ...  "
      ]
     },
     "execution_count": 7,
     "metadata": {
      "tags": []
     },
     "output_type": "execute_result"
    }
   ],
   "source": [
    "display= pd.read_sql_query(\"\"\"\n",
    "SELECT *\n",
    "FROM Reviews\n",
    "WHERE Score != 3 AND UserId=\"AR5J8UI46CURR\"\n",
    "ORDER BY ProductID\n",
    "\"\"\", con)\n",
    "display.head() # Data cleaning :duplication"
   ]
  },
  {
   "cell_type": "code",
   "execution_count": 0,
   "metadata": {
    "colab": {},
    "colab_type": "code",
    "id": "4Jx5mcNckevy"
   },
   "outputs": [],
   "source": [
    "#Sorting data according to ProductId in ascending order\n",
    "sorted_data=filtered_data.sort_values('ProductId', axis=0, ascending=True, inplace=False, kind='quicksort', na_position='last')"
   ]
  },
  {
   "cell_type": "code",
   "execution_count": 9,
   "metadata": {
    "colab": {
     "base_uri": "https://localhost:8080/",
     "height": 34
    },
    "colab_type": "code",
    "id": "no-MhU5Rkj9L",
    "outputId": "d199fcac-9c3b-4551-ecde-9fd65a789c2e"
   },
   "outputs": [
    {
     "data": {
      "text/plain": [
       "(160178, 10)"
      ]
     },
     "execution_count": 9,
     "metadata": {
      "tags": []
     },
     "output_type": "execute_result"
    }
   ],
   "source": [
    "# Droping Deduplication of entries\n",
    "final=sorted_data.drop_duplicates(subset={\"UserId\",\"ProfileName\",\"Time\",\"Text\"}, keep='first', inplace=False)\n",
    "final.shape"
   ]
  },
  {
   "cell_type": "code",
   "execution_count": 10,
   "metadata": {
    "colab": {
     "base_uri": "https://localhost:8080/",
     "height": 34
    },
    "colab_type": "code",
    "id": "ClLlUtx0kvL3",
    "outputId": "f2df58fb-2c81-4598-d36b-4c5d3ffe16ab"
   },
   "outputs": [
    {
     "data": {
      "text/plain": [
       "80.089"
      ]
     },
     "execution_count": 10,
     "metadata": {
      "tags": []
     },
     "output_type": "execute_result"
    }
   ],
   "source": [
    "#Checking to see that how much % of data still remains in final data\n",
    "(final['Id'].size*1.0)/(filtered_data['Id'].size*1.0)*100"
   ]
  },
  {
   "cell_type": "markdown",
   "metadata": {
    "colab_type": "text",
    "id": "yP-ZKcZFlEgm"
   },
   "source": [
    "<b>Observation:-</b> It was also seen that in two rows given below the value of HelpfulnessNumerator is greater than HelpfulnessDenominator which is not practically possible hence these two rows too are removed from calcualtions"
   ]
  },
  {
   "cell_type": "code",
   "execution_count": 11,
   "metadata": {
    "colab": {
     "base_uri": "https://localhost:8080/",
     "height": 179
    },
    "colab_type": "code",
    "id": "S9ENlvwek4eT",
    "outputId": "bb1eed15-dfbe-48c4-8fb5-b24d8956e9f3"
   },
   "outputs": [
    {
     "data": {
      "text/html": [
       "<div>\n",
       "<style scoped>\n",
       "    .dataframe tbody tr th:only-of-type {\n",
       "        vertical-align: middle;\n",
       "    }\n",
       "\n",
       "    .dataframe tbody tr th {\n",
       "        vertical-align: top;\n",
       "    }\n",
       "\n",
       "    .dataframe thead th {\n",
       "        text-align: right;\n",
       "    }\n",
       "</style>\n",
       "<table border=\"1\" class=\"dataframe\">\n",
       "  <thead>\n",
       "    <tr style=\"text-align: right;\">\n",
       "      <th></th>\n",
       "      <th>Id</th>\n",
       "      <th>ProductId</th>\n",
       "      <th>UserId</th>\n",
       "      <th>ProfileName</th>\n",
       "      <th>HelpfulnessNumerator</th>\n",
       "      <th>HelpfulnessDenominator</th>\n",
       "      <th>Score</th>\n",
       "      <th>Time</th>\n",
       "      <th>Summary</th>\n",
       "      <th>Text</th>\n",
       "    </tr>\n",
       "  </thead>\n",
       "  <tbody>\n",
       "    <tr>\n",
       "      <th>0</th>\n",
       "      <td>64422</td>\n",
       "      <td>B000MIDROQ</td>\n",
       "      <td>A161DK06JJMCYF</td>\n",
       "      <td>J. E. Stephens \"Jeanne\"</td>\n",
       "      <td>3</td>\n",
       "      <td>1</td>\n",
       "      <td>5</td>\n",
       "      <td>1224892800</td>\n",
       "      <td>Bought This for My Son at College</td>\n",
       "      <td>My son loves spaghetti so I didn't hesitate or...</td>\n",
       "    </tr>\n",
       "    <tr>\n",
       "      <th>1</th>\n",
       "      <td>44737</td>\n",
       "      <td>B001EQ55RW</td>\n",
       "      <td>A2V0I904FH7ABY</td>\n",
       "      <td>Ram</td>\n",
       "      <td>3</td>\n",
       "      <td>2</td>\n",
       "      <td>4</td>\n",
       "      <td>1212883200</td>\n",
       "      <td>Pure cocoa taste with crunchy almonds inside</td>\n",
       "      <td>It was almost a 'love at first bite' - the per...</td>\n",
       "    </tr>\n",
       "  </tbody>\n",
       "</table>\n",
       "</div>"
      ],
      "text/plain": [
       "      Id   ProductId          UserId              ProfileName  \\\n",
       "0  64422  B000MIDROQ  A161DK06JJMCYF  J. E. Stephens \"Jeanne\"   \n",
       "1  44737  B001EQ55RW  A2V0I904FH7ABY                      Ram   \n",
       "\n",
       "   HelpfulnessNumerator  HelpfulnessDenominator  Score        Time  \\\n",
       "0                     3                       1      5  1224892800   \n",
       "1                     3                       2      4  1212883200   \n",
       "\n",
       "                                        Summary  \\\n",
       "0             Bought This for My Son at College   \n",
       "1  Pure cocoa taste with crunchy almonds inside   \n",
       "\n",
       "                                                Text  \n",
       "0  My son loves spaghetti so I didn't hesitate or...  \n",
       "1  It was almost a 'love at first bite' - the per...  "
      ]
     },
     "execution_count": 11,
     "metadata": {
      "tags": []
     },
     "output_type": "execute_result"
    }
   ],
   "source": [
    "display= pd.read_sql_query(\"\"\"\n",
    "SELECT *\n",
    "FROM Reviews\n",
    "WHERE Score != 3 AND Id=44737 OR Id=64422\n",
    "ORDER BY ProductID\n",
    "\"\"\", con)\n",
    "\n",
    "display.head(2)"
   ]
  },
  {
   "cell_type": "code",
   "execution_count": 0,
   "metadata": {
    "colab": {},
    "colab_type": "code",
    "id": "pQXPunoRlLc_"
   },
   "outputs": [],
   "source": [
    "final=final[final.HelpfulnessNumerator<=final.HelpfulnessDenominator]"
   ]
  },
  {
   "cell_type": "code",
   "execution_count": 13,
   "metadata": {
    "colab": {
     "base_uri": "https://localhost:8080/",
     "height": 85
    },
    "colab_type": "code",
    "id": "Cc7jLHu6lRz5",
    "outputId": "3e1b5ced-0f9b-46bf-f7ca-0329fc071bad"
   },
   "outputs": [
    {
     "name": "stdout",
     "output_type": "stream",
     "text": [
      "(160176, 10)\n"
     ]
    },
    {
     "data": {
      "text/plain": [
       "1    134799\n",
       "0     25377\n",
       "Name: Score, dtype: int64"
      ]
     },
     "execution_count": 13,
     "metadata": {
      "tags": []
     },
     "output_type": "execute_result"
    }
   ],
   "source": [
    "#Before starting the next phase of preprocessing lets see the number of entries left\n",
    "print(final.shape)\n",
    "\n",
    "#How many positive and negative reviews are present in our dataset?\n",
    "final['Score'].value_counts()"
   ]
  },
  {
   "cell_type": "code",
   "execution_count": 14,
   "metadata": {
    "colab": {
     "base_uri": "https://localhost:8080/",
     "height": 173
    },
    "colab_type": "code",
    "id": "NgCXP3JblbLg",
    "outputId": "853fca7a-9eda-420a-fa5d-8126e83cd9f2"
   },
   "outputs": [
    {
     "name": "stdout",
     "output_type": "stream",
     "text": [
      "I remembered this book from my childhood and got it for my kids.  It's just as good as I remembered and my kids love it too.  My older daughter now reads it to her sister.  Good rhymes and nice pictures.\n",
      "==================================================\n",
      "The qualitys not as good as the lamb and rice but it didn't seem to bother his stomach, you get 10 more pounds and it is cheaper wich is a plus for me. You can always ad your own rice and veggies. Its fresher that way and better for him in my opinion. Plus if you you can get it deliverd to your house for free its even better.  Gotta love pitbulls\n",
      "==================================================\n",
      "This is the Japanese version of breadcrumb (pan=bread, a Portuguese loan-word, and&quot;ko-&quot;  is &quot;child of&quot; or of &quot;derived from&quot;.) Panko are used for katsudon, tonkatsu or cutlets served on rice or in soups. The cutlets, pounded chicken or pork, are coated with these light and crispy crumbs and fried. They are not gritty and dense like regular crumbs. They are very nice on deep fried shrimps and decorative for a more gourmet touch.\n",
      "==================================================\n",
      "What can I say... If Douwe Egberts was good enough for my dutch grandmother, it's perfect for me.  I like this flavor best with my Senseo... It has a nice dark full body flavor without the burt bean taste I tend sense with starbucks.  It's a shame most americans haven't bought into single serve coffe makers as our Dutch counter parts have.  Every cup is fresh brewed and doesn't sit long enough on my desk to get that old taste either.\n",
      "==================================================\n"
     ]
    }
   ],
   "source": [
    "######### Preprocessing Reviews Text \n",
    "# printing some random reviews\n",
    "sent_0 = final['Text'].values[0]\n",
    "print(sent_0)\n",
    "print(\"=\"*50)\n",
    "\n",
    "sent_1000 = final['Text'].values[1000]\n",
    "print(sent_1000)\n",
    "print(\"=\"*50)\n",
    "\n",
    "sent_1500 = final['Text'].values[1500]\n",
    "print(sent_1500)\n",
    "print(\"=\"*50)\n",
    "\n",
    "sent_4900 = final['Text'].values[4900]\n",
    "print(sent_4900)\n",
    "print(\"=\"*50)"
   ]
  },
  {
   "cell_type": "code",
   "execution_count": 15,
   "metadata": {
    "colab": {
     "base_uri": "https://localhost:8080/",
     "height": 54
    },
    "colab_type": "code",
    "id": "eOlFWT8Hll8V",
    "outputId": "52948d06-de40-4a63-ff89-6ae73f059299"
   },
   "outputs": [
    {
     "name": "stdout",
     "output_type": "stream",
     "text": [
      "I remembered this book from my childhood and got it for my kids.  It's just as good as I remembered and my kids love it too.  My older daughter now reads it to her sister.  Good rhymes and nice pictures.\n"
     ]
    }
   ],
   "source": [
    "# remove urls from text python: https://stackoverflow.com/a/40823105/4084039\n",
    "sent_1 = re.sub(r\"http\\S+\", \"\", sent_0)\n",
    "sent_1000 = re.sub(r\"http\\S+\", \"\", sent_1000)\n",
    "sent_150 = re.sub(r\"http\\S+\", \"\", sent_1500)\n",
    "sent_4900 = re.sub(r\"http\\S+\", \"\", sent_4900)\n",
    "\n",
    "print(sent_1)"
   ]
  },
  {
   "cell_type": "code",
   "execution_count": 16,
   "metadata": {
    "colab": {
     "base_uri": "https://localhost:8080/",
     "height": 156
    },
    "colab_type": "code",
    "id": "YilORfn8lwYU",
    "outputId": "24893bd9-1310-44ba-d877-85809dff351d"
   },
   "outputs": [
    {
     "name": "stdout",
     "output_type": "stream",
     "text": [
      "I remembered this book from my childhood and got it for my kids.  It's just as good as I remembered and my kids love it too.  My older daughter now reads it to her sister.  Good rhymes and nice pictures.\n",
      "==================================================\n",
      "The qualitys not as good as the lamb and rice but it didn't seem to bother his stomach, you get 10 more pounds and it is cheaper wich is a plus for me. You can always ad your own rice and veggies. Its fresher that way and better for him in my opinion. Plus if you you can get it deliverd to your house for free its even better.  Gotta love pitbulls\n",
      "==================================================\n",
      "This is the Japanese version of breadcrumb (pan=bread, a Portuguese loan-word, and\"ko-\"  is \"child of\" or of \"derived from\".) Panko are used for katsudon, tonkatsu or cutlets served on rice or in soups. The cutlets, pounded chicken or pork, are coated with these light and crispy crumbs and fried. They are not gritty and dense like regular crumbs. They are very nice on deep fried shrimps and decorative for a more gourmet touch.\n",
      "==================================================\n",
      "What can I say... If Douwe Egberts was good enough for my dutch grandmother, it's perfect for me.  I like this flavor best with my Senseo... It has a nice dark full body flavor without the burt bean taste I tend sense with starbucks.  It's a shame most americans haven't bought into single serve coffe makers as our Dutch counter parts have.  Every cup is fresh brewed and doesn't sit long enough on my desk to get that old taste either.\n"
     ]
    }
   ],
   "source": [
    "# https://stackoverflow.com/questions/16206380/python-beautifulsoup-how-to-remove-all-tags-from-an-element\n",
    "from bs4 import BeautifulSoup\n",
    "\n",
    "soup = BeautifulSoup(sent_0, 'lxml')\n",
    "text = soup.get_text()\n",
    "print(text)\n",
    "print(\"=\"*50)\n",
    "\n",
    "soup = BeautifulSoup(sent_1000, 'lxml')\n",
    "text = soup.get_text()\n",
    "print(text)\n",
    "print(\"=\"*50)\n",
    "\n",
    "soup = BeautifulSoup(sent_1500, 'lxml')\n",
    "text = soup.get_text()\n",
    "print(text)\n",
    "print(\"=\"*50)\n",
    "\n",
    "soup = BeautifulSoup(sent_4900, 'lxml')\n",
    "text = soup.get_text()\n",
    "print(text)"
   ]
  },
  {
   "cell_type": "code",
   "execution_count": 0,
   "metadata": {
    "colab": {},
    "colab_type": "code",
    "id": "fhRHJ-00l0jd"
   },
   "outputs": [],
   "source": [
    "# https://stackoverflow.com/a/47091490/4084039\n",
    "import re\n",
    "\n",
    "def decontracted(phrase):\n",
    "    # specific\n",
    "    phrase = re.sub(r\"won't\", \"will not\", phrase)\n",
    "    phrase = re.sub(r\"can\\'t\", \"can not\", phrase)\n",
    "\n",
    "    # general\n",
    "    phrase = re.sub(r\"n\\'t\", \" not\", phrase)\n",
    "    phrase = re.sub(r\"\\'re\", \" are\", phrase)\n",
    "    phrase = re.sub(r\"\\'s\", \" is\", phrase)\n",
    "    phrase = re.sub(r\"\\'d\", \" would\", phrase)\n",
    "    phrase = re.sub(r\"\\'ll\", \" will\", phrase)\n",
    "    phrase = re.sub(r\"\\'t\", \" not\", phrase)\n",
    "    phrase = re.sub(r\"\\'ve\", \" have\", phrase)\n",
    "    phrase = re.sub(r\"\\'m\", \" am\", phrase)\n",
    "    return phrase"
   ]
  },
  {
   "cell_type": "code",
   "execution_count": 18,
   "metadata": {
    "colab": {
     "base_uri": "https://localhost:8080/",
     "height": 54
    },
    "colab_type": "code",
    "id": "o46DTKepl4mz",
    "outputId": "d9050d4d-3bb4-4e3e-c12e-448dd83b5eea"
   },
   "outputs": [
    {
     "name": "stdout",
     "output_type": "stream",
     "text": [
      "This is the Japanese version of breadcrumb (pan=bread, a Portuguese loan-word, and&quot;ko-&quot;  is &quot;child of&quot; or of &quot;derived from&quot;.) Panko are used for katsudon, tonkatsu or cutlets served on rice or in soups. The cutlets, pounded chicken or pork, are coated with these light and crispy crumbs and fried. They are not gritty and dense like regular crumbs. They are very nice on deep fried shrimps and decorative for a more gourmet touch.\n"
     ]
    }
   ],
   "source": [
    "sent_1500 = decontracted(sent_1500)\n",
    "print(sent_1500)"
   ]
  },
  {
   "cell_type": "code",
   "execution_count": 19,
   "metadata": {
    "colab": {
     "base_uri": "https://localhost:8080/",
     "height": 54
    },
    "colab_type": "code",
    "id": "mh8GzzAQl-B3",
    "outputId": "6e354790-5486-454c-a950-d83feab29760"
   },
   "outputs": [
    {
     "name": "stdout",
     "output_type": "stream",
     "text": [
      "I remembered this book from my childhood and got it for my kids.  It's just as good as I remembered and my kids love it too.  My older daughter now reads it to her sister.  Good rhymes and nice pictures.\n"
     ]
    }
   ],
   "source": [
    "#remove words with numbers python: https://stackoverflow.com/a/18082370/4084039\n",
    "sent_0 = re.sub(\"\\S*\\d\\S*\", \"\", sent_1).strip()\n",
    "print(sent_0)"
   ]
  },
  {
   "cell_type": "code",
   "execution_count": 20,
   "metadata": {
    "colab": {
     "base_uri": "https://localhost:8080/",
     "height": 54
    },
    "colab_type": "code",
    "id": "Gg_sThZsmNk2",
    "outputId": "6c19aba5-fb7c-4d3e-bc6e-97034d84051c"
   },
   "outputs": [
    {
     "name": "stdout",
     "output_type": "stream",
     "text": [
      "This is the Japanese version of breadcrumb pan bread a Portuguese loan word and quot ko quot is quot child of quot or of quot derived from quot Panko are used for katsudon tonkatsu or cutlets served on rice or in soups The cutlets pounded chicken or pork are coated with these light and crispy crumbs and fried They are not gritty and dense like regular crumbs They are very nice on deep fried shrimps and decorative for a more gourmet touch \n"
     ]
    }
   ],
   "source": [
    "#remove spacial character: https://stackoverflow.com/a/5843547/4084039\n",
    "sent_1500 = re.sub('[^A-Za-z0-9]+', ' ', sent_1500)\n",
    "print(sent_1500)"
   ]
  },
  {
   "cell_type": "code",
   "execution_count": 0,
   "metadata": {
    "colab": {},
    "colab_type": "code",
    "id": "MhtYgU-XmT35"
   },
   "outputs": [],
   "source": [
    "# https://gist.github.com/sebleier/554280\n",
    "# we are removing the words from the stop words list: 'no', 'nor', 'not'\n",
    "# <br /><br /> ==> after the above steps, we are getting \"br br\"\n",
    "# we are including them into stop words list\n",
    "# instead of <br /> if we have <br/> these tags would have revmoved in the 1st step\n",
    "\n",
    "stopwords= set(['br', 'the', 'i', 'me', 'my', 'myself', 'we', 'our', 'ours', 'ourselves', 'you', \"you're\", \"you've\",\\\n",
    "            \"you'll\", \"you'd\", 'your', 'yours', 'yourself', 'yourselves', 'he', 'him', 'his', 'himself', \\\n",
    "            'she', \"she's\", 'her', 'hers', 'herself', 'it', \"it's\", 'its', 'itself', 'they', 'them', 'their',\\\n",
    "            'theirs', 'themselves', 'what', 'which', 'who', 'whom', 'this', 'that', \"that'll\", 'these', 'those', \\\n",
    "            'am', 'is', 'are', 'was', 'were', 'be', 'been', 'being', 'have', 'has', 'had', 'having', 'do', 'does', \\\n",
    "            'did', 'doing', 'a', 'an', 'the', 'and', 'but', 'if', 'or', 'because', 'as', 'until', 'while', 'of', \\\n",
    "            'at', 'by', 'for', 'with', 'about', 'against', 'between', 'into', 'through', 'during', 'before', 'after',\\\n",
    "            'above', 'below', 'to', 'from', 'up', 'down', 'in', 'out', 'on', 'off', 'over', 'under', 'again', 'further',\\\n",
    "            'then', 'once', 'here', 'there', 'when', 'where', 'why', 'how', 'all', 'any', 'both', 'each', 'few', 'more',\\\n",
    "            'most', 'other', 'some', 'such', 'only', 'own', 'same', 'so', 'than', 'too', 'very', \\\n",
    "            's', 't', 'can', 'will', 'just', 'don', \"don't\", 'should', \"should've\", 'now', 'd', 'll', 'm', 'o', 're', \\\n",
    "            've', 'y', 'ain', 'aren', \"aren't\", 'couldn', \"couldn't\", 'didn', \"didn't\", 'doesn', \"doesn't\", 'hadn',\\\n",
    "            \"hadn't\", 'hasn', \"hasn't\", 'haven', \"haven't\", 'isn', \"isn't\", 'ma', 'mightn', \"mightn't\", 'mustn',\\\n",
    "            \"mustn't\", 'needn', \"needn't\", 'shan', \"shan't\", 'shouldn', \"shouldn't\", 'wasn', \"wasn't\", 'weren', \"weren't\", \\\n",
    "            'won', \"won't\", 'wouldn', \"wouldn't\"])"
   ]
  },
  {
   "cell_type": "code",
   "execution_count": 22,
   "metadata": {
    "colab": {
     "base_uri": "https://localhost:8080/",
     "height": 34
    },
    "colab_type": "code",
    "id": "Yi4Q77wamYzE",
    "outputId": "4622d1b9-c09b-46a9-ea28-b523324a8e11"
   },
   "outputs": [
    {
     "name": "stderr",
     "output_type": "stream",
     "text": [
      "100%|██████████| 160176/160176 [01:14<00:00, 2156.77it/s]\n"
     ]
    }
   ],
   "source": [
    "import warnings\n",
    "warnings.filterwarnings(\"ignore\")\n",
    "# Combining all the above stundents \n",
    "from tqdm import tqdm\n",
    "preprocessed_reviews = []\n",
    "# tqdm is for printing the status bar\n",
    "for sentance in tqdm(final['Text'].values):\n",
    "    sentance = re.sub(r\"http\\S+\", \"\", sentance)\n",
    "    sentance = BeautifulSoup(sentance, 'lxml').get_text()\n",
    "    sentance = decontracted(sentance)\n",
    "    sentance = re.sub(\"\\S*\\d\\S*\", \"\", sentance).strip()\n",
    "    sentance = re.sub('[^A-Za-z]+', ' ', sentance)\n",
    "    # https://gist.github.com/sebleier/554280\n",
    "    sentance = ' '.join(e.lower() for e in sentance.split() if e.lower() not in stopwords)\n",
    "    preprocessed_reviews.append(sentance.strip())"
   ]
  },
  {
   "cell_type": "code",
   "execution_count": 23,
   "metadata": {
    "colab": {
     "base_uri": "https://localhost:8080/",
     "height": 68
    },
    "colab_type": "code",
    "id": "kgbJHsb4mhGr",
    "outputId": "1c8da9cb-6cc5-42d0-b926-bb03533bb6d4"
   },
   "outputs": [
    {
     "data": {
      "text/plain": [
       "138695    remembered book childhood got kids good rememb...\n",
       "138707    daughter loves really rosie books introduced r...\n",
       "Name: CleanedText, dtype: object"
      ]
     },
     "execution_count": 23,
     "metadata": {
      "tags": []
     },
     "output_type": "execute_result"
    }
   ],
   "source": [
    "final['CleanedText']=preprocessed_reviews\n",
    "final['CleanedText'].head(2)"
   ]
  },
  {
   "cell_type": "code",
   "execution_count": 24,
   "metadata": {
    "colab": {
     "base_uri": "https://localhost:8080/",
     "height": 1343
    },
    "colab_type": "code",
    "id": "1UECWgmyp5GS",
    "outputId": "47adb51a-e157-4b0c-ac0a-a4d3da1e4a69"
   },
   "outputs": [
    {
     "name": "stdout",
     "output_type": "stream",
     "text": [
      "For 100000 samples : \n",
      " 1    84278\n",
      "0    15722\n",
      "Name: Score, dtype: int64\n",
      "data sample for brute\n",
      "            Id   ProductId          UserId       ProfileName  \\\n",
      "138706  150524  0006641040   ACITT7DI6IDDL   shari zychinski   \n",
      "1146      1245  B00002Z754  A29Z5PI9BW2PU3            Robbie   \n",
      "1145      1244  B00002Z754  A3B8RCEI0FXFI6         B G Chase   \n",
      "138017  149789  B00004S1C6  A1KXONFPU2XQ5K  Stephanie Manley   \n",
      "138018  149790  B00004S1C6  A1IU7S4HCK1XK0    Joanna Daneman   \n",
      "\n",
      "        HelpfulnessNumerator  HelpfulnessDenominator  Score       Time  \\\n",
      "138706                     0                       0      1 1999-10-08   \n",
      "1146                       7                       7      1 2000-06-23   \n",
      "1145                      10                      10      1 2000-06-29   \n",
      "138017                    26                      28      1 2000-08-09   \n",
      "138018                    25                      27      1 2001-02-22   \n",
      "\n",
      "                                                  Summary  \\\n",
      "138706                          EVERY book is educational   \n",
      "1146                                        Great Product   \n",
      "1145                       WOW Make your own 'slickers' !   \n",
      "138017                                       A must have!   \n",
      "138018  Make your own Martha Stewart style cakes and c...   \n",
      "\n",
      "                                                     Text  \\\n",
      "138706  this witty little book makes my son laugh at l...   \n",
      "1146    This was a really good idea and the final prod...   \n",
      "1145    I just received my shipment and could hardly w...   \n",
      "138017  These are easy to use, they do not make a mess...   \n",
      "138018  I don't know why anyone would ever use those l...   \n",
      "\n",
      "                                              CleanedText  \n",
      "138706  witty little book makes son laugh loud recite ...  \n",
      "1146    really good idea final product outstanding use...  \n",
      "1145    received shipment could hardly wait try produc...  \n",
      "138017  easy use not make mess offer vibrant colors no...  \n",
      "138018  not know anyone would ever use little liquid f...  \n",
      "For 20000 samples : \n",
      " 1    16875\n",
      "0     3125\n",
      "Name: Score, dtype: int64\n",
      "data sample for kdtree\n",
      "            Id   ProductId          UserId      ProfileName  \\\n",
      "138020  149792  B00004S1C6  A3B5QJVM1TLYJG      Dan Crevier   \n",
      "138014  149785  B00004S1C6  A1KZ8KEBD4FONY  W. Zientek-Sico   \n",
      "184396  200021  B0000D9N5Q  A176XYKMRF1U8Q     Lance Arthur   \n",
      "173505  188205  B0000DG5G3  A2LHXQ539RDF32      \"lisah_007\"   \n",
      "94024   102216  B0000GH6UG  A1J2NULS2YDNAQ    Matt Cromwell   \n",
      "\n",
      "        HelpfulnessNumerator  HelpfulnessDenominator  Score       Time  \\\n",
      "138020                    11                      12      1 2001-10-23   \n",
      "138014                    60                      61      1 2002-10-25   \n",
      "184396                     0                       0      1 2003-11-05   \n",
      "173505                     0                       0      1 2003-11-23   \n",
      "94024                      8                      12      1 2004-01-10   \n",
      "\n",
      "                                             Summary  \\\n",
      "138020                          Nice, bright colors!   \n",
      "138014  Wonderful product gives professional results   \n",
      "184396                       A small taste of heaven   \n",
      "173505                                  Yum-yum-yum!   \n",
      "94024            Chocolate Like You've Never Had It!   \n",
      "\n",
      "                                                     Text  \\\n",
      "138020  I bought these to decorate some dia de los mue...   \n",
      "138014  The spectra paste food colors are simply fanta...   \n",
      "184396  Pierre Robert is similar to Brie but with a sm...   \n",
      "173505  Short and sweet (or in this case salty) - by f...   \n",
      "94024   I was first turned onto this chocolate when I ...   \n",
      "\n",
      "                                              CleanedText  \n",
      "138020  bought decorate dia de los muertos skulls icin...  \n",
      "138014  spectra paste food colors simply fantastic pro...  \n",
      "184396  pierre robert similar brie smoother creamier t...  \n",
      "173505  short sweet case salty far simple creative lit...  \n",
      "94024   first turned onto chocolate visited private me...  \n"
     ]
    }
   ],
   "source": [
    "data_for_brute=final.sample(100000)\n",
    "print(\"For 100000 samples : \\n\" , data_for_brute['Score'].value_counts())\n",
    "data_for_brute[\"Time\"] = pd.to_datetime(data_for_brute[\"Time\"], unit = \"s\")\n",
    "data_brute = data_for_brute.sort_values(by = \"Time\")\n",
    "print(\"data sample for brute\")\n",
    "print(data_brute.head())\n",
    "data_for_kdtree=final.sample(20000)\n",
    "print(\"For 20000 samples : \\n\" , data_for_kdtree['Score'].value_counts())\n",
    "\n",
    "data_for_kdtree[\"Time\"] = pd.to_datetime(data_for_kdtree[\"Time\"], unit = \"s\")\n",
    "data_kdtree = data_for_kdtree.sort_values(by = \"Time\")\n",
    "print(\"data sample for kdtree\")\n",
    "print(data_kdtree.head())\n",
    "# this is for 100k points\n",
    "X=data_brute['CleanedText']\n",
    "y=data_brute['Score']\n",
    "\n",
    "X1=data_kdtree['CleanedText']\n",
    "y1=data_kdtree['Score']"
   ]
  },
  {
   "cell_type": "code",
   "execution_count": 25,
   "metadata": {
    "colab": {
     "base_uri": "https://localhost:8080/",
     "height": 68
    },
    "colab_type": "code",
    "id": "YRdTyPWtnEOe",
    "outputId": "a181e2e0-741e-48e9-8651-06a4b4cd6763"
   },
   "outputs": [
    {
     "name": "stdout",
     "output_type": "stream",
     "text": [
      "(44890,) (44890,)\n",
      "(22110,) (22110,)\n",
      "(33000,) (33000,)\n"
     ]
    }
   ],
   "source": [
    "from sklearn.model_selection import train_test_split\n",
    "X_train, X_test, y_train, y_test = train_test_split(X, y, test_size=0.33) # this is random splitting\n",
    "X_train, X_cv, y_train, y_cv = train_test_split(X_train, y_train, test_size=0.33) # random splitting\n",
    "print(X_train.shape, y_train.shape)\n",
    "print(X_cv.shape, y_cv.shape)\n",
    "print(X_test.shape, y_test.shape)\n"
   ]
  },
  {
   "cell_type": "code",
   "execution_count": 26,
   "metadata": {
    "colab": {
     "base_uri": "https://localhost:8080/",
     "height": 68
    },
    "colab_type": "code",
    "id": "nqI1IJe-BXF9",
    "outputId": "d665b69a-dc1d-423f-a228-104c6c305062"
   },
   "outputs": [
    {
     "name": "stdout",
     "output_type": "stream",
     "text": [
      "(8978,) (8978,)\n",
      "(4422,) (4422,)\n",
      "(6600,) (6600,)\n"
     ]
    }
   ],
   "source": [
    "#from sklearn.model_selection import train_test_split\n",
    "X1_train, X1_test, y1_train, y1_test = train_test_split(X1, y1, test_size=0.33) # this is random splitting\n",
    "X1_train, X1_cv, y1_train, y1_cv = train_test_split(X1_train, y1_train, test_size=0.33) # random splitting\n",
    "print(X1_train.shape, y1_train.shape)\n",
    "print(X1_cv.shape, y1_cv.shape)\n",
    "print(X1_test.shape, y1_test.shape)\n"
   ]
  },
  {
   "cell_type": "code",
   "execution_count": 0,
   "metadata": {
    "colab": {},
    "colab_type": "code",
    "id": "Hq_DBUgEgj5T"
   },
   "outputs": [],
   "source": [
    "import pandas as pd\n",
    "import numpy as np\n",
    "import matplotlib.pyplot as plt\n",
    "from sklearn.metrics import accuracy_score\n",
    "from sklearn.model_selection import cross_val_score\n",
    "from collections import Counter\n",
    "from sklearn.model_selection import cross_validate\n",
    "from sklearn.metrics import confusion_matrix \n",
    "from sklearn.feature_extraction.text import CountVectorizer"
   ]
  },
  {
   "cell_type": "code",
   "execution_count": 0,
   "metadata": {
    "colab": {},
    "colab_type": "code",
    "id": "Mz4P24Rfgj5m"
   },
   "outputs": [],
   "source": [
    "from sklearn.model_selection import train_test_split\n",
    "#from sklearn.grid_search import GridSearchCV\n",
    "from sklearn.datasets import *\n",
    "from sklearn.linear_model import LogisticRegression\n",
    "from sklearn import svm, datasets\n",
    "from sklearn.model_selection import GridSearchCV\n",
    "from sklearn.ensemble import RandomForestClassifier\n",
    "from sklearn.ensemble import VotingClassifier\n",
    "from sklearn.tree import DecisionTreeClassifier\n",
    "from scipy.stats import uniform\n",
    "from sklearn import linear_model, datasets\n",
    "from collections import Counter\n",
    "from sklearn import model_selection\n",
    "from sklearn.metrics import roc_auc_score\n",
    "from sklearn.metrics import confusion_matrix"
   ]
  },
  {
   "cell_type": "code",
   "execution_count": 29,
   "metadata": {
    "colab": {
     "base_uri": "https://localhost:8080/",
     "height": 34
    },
    "colab_type": "code",
    "id": "MXRj3p3dgj62",
    "outputId": "b55cdd4a-51e6-4367-cc07-b216ef5b383e"
   },
   "outputs": [
    {
     "name": "stdout",
     "output_type": "stream",
     "text": [
      "************************************************************************************************************************\n"
     ]
    }
   ],
   "source": [
    "print(\"**\"*60)\n",
    "from sklearn.neighbors import KNeighborsClassifier\n",
    "from sklearn.metrics import roc_auc_score\n",
    "from sklearn.metrics import confusion_matrix"
   ]
  },
  {
   "cell_type": "markdown",
   "metadata": {
    "colab_type": "text",
    "id": "68ah3Rm9gj7B"
   },
   "source": [
    "# BOW"
   ]
  },
  {
   "cell_type": "code",
   "execution_count": 0,
   "metadata": {
    "colab": {},
    "colab_type": "code",
    "id": "auTOX33S3yTg"
   },
   "outputs": [],
   "source": [
    "bow =CountVectorizer()"
   ]
  },
  {
   "cell_type": "code",
   "execution_count": 0,
   "metadata": {
    "colab": {
     "base_uri": "https://localhost:8080/",
     "height": 85
    },
    "colab_type": "code",
    "id": "dp4Tl6B84R8j",
    "outputId": "b330fdf8-cf56-49bb-a362-5c1b716aa0b3"
   },
   "outputs": [
    {
     "name": "stdout",
     "output_type": "stream",
     "text": [
      "After vectorizations\n",
      "(44890, 40479) (44890,)\n",
      "(22110, 40479) (22110,)\n",
      "(33000, 40479) (33000,)\n"
     ]
    }
   ],
   "source": [
    "# we use the fitted CountVectorizer to convert the text to vector\n",
    "X_train_bow = bow.fit_transform(X_train)\n",
    "X_cv_bow = bow.transform(X_cv)\n",
    "X_test_bow = bow.transform(X_test)\n",
    "\n",
    "print(\"After vectorizations\")\n",
    "print(X_train_bow.shape, y_train.shape)\n",
    "print(X_cv_bow.shape, y_cv.shape)\n",
    "print(X_test_bow.shape, y_test.shape)"
   ]
  },
  {
   "cell_type": "markdown",
   "metadata": {
    "colab_type": "text",
    "id": "I4dsRt-j_b5i"
   },
   "source": [
    "### Applying KNN using brute on BOW"
   ]
  },
  {
   "cell_type": "code",
   "execution_count": 0,
   "metadata": {
    "colab": {
     "base_uri": "https://localhost:8080/",
     "height": 294
    },
    "colab_type": "code",
    "id": "qhKJ4aMF4x3e",
    "outputId": "f6bb066d-16a4-4510-c27f-b155aace4899"
   },
   "outputs": [
    {
     "data": {
      "image/png": "[encoded data removed]",
      "text/plain": [
       "<Figure size 432x288 with 1 Axes>"
      ]
     },
     "metadata": {
      "tags": []
     },
     "output_type": "display_data"
    }
   ],
   "source": [
    "\n",
    "C = [1, 5, 10, 15, 21, 31, 41, 51]\n",
    "from pylab import scatter\n",
    "import pylab\n",
    "import math\n",
    "train_auc_brute = []\n",
    "cv_auc_brute = []\n",
    "for i in C:\n",
    "    neigh_brute = KNeighborsClassifier(n_neighbors=i,algorithm='brute')\n",
    "    model_brute = neigh_brute.fit(X_train_bow, y_train)\n",
    "    # roc_auc_score(y_true, y_score) the 2nd parameter should be probability estimates of the positive class\n",
    "    # not the predicted outputs\n",
    "    y_train_pred_brute =  model_brute.predict_proba(X_train_bow)[:,1]\n",
    "    y_cv_pred_brute =  model_brute.predict_proba(X_cv_bow)[:,1]\n",
    "    train_auc_brute.append(roc_auc_score(y_train,y_train_pred_brute))\n",
    "    cv_auc_brute.append(roc_auc_score(y_cv, y_cv_pred_brute))\n",
    "    \n",
    "\n",
    "plt.plot(np.log(C), train_auc_brute, label='Train AUC')\n",
    "plt.plot(np.log(C), cv_auc_brute, label='CV AUC')\n",
    "plt.legend()\n",
    "plt.xlabel(\"K: hyperparameter\")\n",
    "plt.ylabel(\"AUC\")\n",
    "plt.title(\"ERROR PLOTS\")\n",
    "plt.show()"
   ]
  },
  {
   "cell_type": "code",
   "execution_count": 0,
   "metadata": {
    "colab": {
     "base_uri": "https://localhost:8080/",
     "height": 51
    },
    "colab_type": "code",
    "id": "TdGYeW2-syzX",
    "outputId": "1eee3eaf-1691-4a34-e1d6-6b45513c0e06"
   },
   "outputs": [
    {
     "name": "stdout",
     "output_type": "stream",
     "text": [
      "\n",
      "The optimal number of cv value in C is 51.000000.\n"
     ]
    }
   ],
   "source": [
    "optimal_alpha_bow = C[cv_auc_brute.index(max(cv_auc_brute))]\n",
    "print('\\nThe optimal number of cv value in C is %f.' % optimal_alpha_bow)"
   ]
  },
  {
   "cell_type": "code",
   "execution_count": 0,
   "metadata": {
    "colab": {
     "base_uri": "https://localhost:8080/",
     "height": 68
    },
    "colab_type": "code",
    "id": "3u0T-Bxd6hH8",
    "outputId": "8bb42954-8b01-4f5e-fb25-f81846082615"
   },
   "outputs": [
    {
     "data": {
      "text/plain": [
       "KNeighborsClassifier(algorithm='auto', leaf_size=30, metric='minkowski',\n",
       "           metric_params=None, n_jobs=None, n_neighbors=51, p=2,\n",
       "           weights='uniform')"
      ]
     },
     "execution_count": 34,
     "metadata": {
      "tags": []
     },
     "output_type": "execute_result"
    }
   ],
   "source": [
    "# instantiate learning model alpha = optimal_alpha\n",
    "knn_optimal_bow = KNeighborsClassifier(n_neighbors=optimal_alpha_bow)\n",
    "# fitting the model\n",
    "knn_optimal_bow.fit(X_train_bow, y_train)"
   ]
  },
  {
   "cell_type": "code",
   "execution_count": 0,
   "metadata": {
    "colab": {
     "base_uri": "https://localhost:8080/",
     "height": 51
    },
    "colab_type": "code",
    "id": "5q76hQ-k7TKa",
    "outputId": "a804d385-4cc2-4e99-bda0-0c1a2c9afdbf"
   },
   "outputs": [
    {
     "name": "stdout",
     "output_type": "stream",
     "text": [
      "\n",
      "The auc socre for value= 51.000000 is 0.537379%\n"
     ]
    }
   ],
   "source": [
    "pred_bow=knn_optimal_bow.predict(X_test_bow)\n",
    "pred_bow_train=knn_optimal_bow.predict(X_train_bow)\n",
    "# evaluate accuracy on test data\n",
    "from sklearn.metrics import roc_auc_score\n",
    "auc_bow = roc_auc_score(y_test, pred_bow)\n",
    "print('\\nThe auc socre for value= %f is %f%%' % (optimal_alpha_bow, auc_bow))"
   ]
  },
  {
   "cell_type": "code",
   "execution_count": 0,
   "metadata": {
    "colab": {
     "base_uri": "https://localhost:8080/",
     "height": 690
    },
    "colab_type": "code",
    "id": "DABBwaDx8xUY",
    "outputId": "aa94d317-2681-4753-9630-99a3eb5784e3"
   },
   "outputs": [
    {
     "name": "stdout",
     "output_type": "stream",
     "text": [
      "[[  459  4763]\n",
      " [  365 27413]]\n",
      "   \n"
     ]
    },
    {
     "data": {
      "image/png": "[encoded data removed]",
      "text/plain": [
       "<Figure size 432x288 with 2 Axes>"
      ]
     },
     "metadata": {
      "tags": []
     },
     "output_type": "display_data"
    },
    {
     "name": "stdout",
     "output_type": "stream",
     "text": [
      "***************************************************************************\n",
      "[[  624  6441]\n",
      " [  426 37399]]\n",
      "   \n"
     ]
    },
    {
     "data": {
      "image/png": "[encoded data removed]",
      "text/plain": [
       "<Figure size 432x288 with 2 Axes>"
      ]
     },
     "metadata": {
      "tags": []
     },
     "output_type": "display_data"
    }
   ],
   "source": [
    "# Confusion Matrix\n",
    "from sklearn.metrics import confusion_matrix\n",
    "cm_bow = confusion_matrix(y_test, pred_bow)\n",
    "print(cm_bow)\n",
    "print('   ')\n",
    "# plotting confusion matrix to describe the performance of classifier.\n",
    "import seaborn as sns\n",
    "class_label = [\"negative\", \"positive\"]\n",
    "df_cm = pd.DataFrame(cm_bow, index = class_label, columns = class_label)\n",
    "sns.heatmap(df_cm, annot = True, fmt = \"d\")\n",
    "plt.title(\"Confusion Matrix\")\n",
    "plt.xlabel(\"Predicted Label\")\n",
    "plt.ylabel(\"True Label\")\n",
    "plt.show()\n",
    "\n",
    "print('***************************************************************************')\n",
    "\n",
    "cm_bow1 = confusion_matrix(y_train, pred_bow_train)\n",
    "print(cm_bow1)\n",
    "print('   ')\n",
    "# plotting confusion matrix to describe the performance of classifier.\n",
    "import seaborn as sns\n",
    "class_label1 = [\"negative\", \"positive\"]\n",
    "df_cm1 = pd.DataFrame(cm_bow1, index = class_label1, columns = class_label1)\n",
    "sns.heatmap(df_cm1, annot = True, fmt = \"d\")\n",
    "plt.title(\"Confusion Matrix\")\n",
    "plt.xlabel(\"Predicted Label\")\n",
    "plt.ylabel(\"True Label\")\n",
    "plt.show()"
   ]
  },
  {
   "cell_type": "code",
   "execution_count": 0,
   "metadata": {
    "colab": {
     "base_uri": "https://localhost:8080/",
     "height": 294
    },
    "colab_type": "code",
    "id": "1zYYmqft6ev0",
    "outputId": "e2ca04fc-04d1-417c-afe6-3c9d4db43fc0"
   },
   "outputs": [
    {
     "data": {
      "image/png": "[encoded data removed]",
      "text/plain": [
       "<Figure size 432x288 with 1 Axes>"
      ]
     },
     "metadata": {
      "tags": []
     },
     "output_type": "display_data"
    }
   ],
   "source": [
    "### Compute ROC curve and ROC area for predictions on l1 validation set\n",
    "from sklearn import metrics\n",
    "y_test_predict =  knn_optimal_bow.predict_proba(X_test_bow)[:,1]\n",
    "y_train_predict =  knn_optimal_bow.predict_proba(X_train_bow)[:,1]\n",
    "fpr1,tpr1,_ =  metrics.roc_curve(y_train,y_train_predict) \n",
    "fpr,tpr, _ = metrics.roc_curve(y_test,y_test_predict)\n",
    "\n",
    "roc_auc = auc(fpr, tpr) \n",
    "roc_auc1 = auc(fpr1,tpr1) \n",
    "### Plot\n",
    "plt.figure()\n",
    "lw = 3\n",
    "plt.plot(fpr, tpr, color='darkorange',\n",
    "         lw=lw, label='ROC curve_test (area = %0.2f)' % roc_auc)\n",
    "plt.plot(fpr1,tpr1, color='navy', lw=lw, linestyle='--',label='ROC curve_train (area = %0.2f)' % roc_auc1)\n",
    "plt.xlim([0.0, 1.0])\n",
    "plt.ylim([0.0, 1.05])\n",
    "plt.xlabel('False Positive Rate')\n",
    "plt.ylabel('True Positive Rate')\n",
    "plt.title('Roc_Auc curve')\n",
    "plt.legend()\n",
    "plt.show()"
   ]
  },
  {
   "cell_type": "markdown",
   "metadata": {
    "colab_type": "text",
    "id": "yQo11SouBAD4"
   },
   "source": [
    "### Applying using Kdtree"
   ]
  },
  {
   "cell_type": "code",
   "execution_count": 0,
   "metadata": {
    "colab": {
     "base_uri": "https://localhost:8080/",
     "height": 85
    },
    "colab_type": "code",
    "id": "2OmlwH5JBD6S",
    "outputId": "edf19f87-298e-45d9-9b1b-d2076cbf6cc2"
   },
   "outputs": [
    {
     "name": "stdout",
     "output_type": "stream",
     "text": [
      "After vectorizations\n",
      "(8978, 19054) (8978,)\n",
      "(4422, 19054) (4422,)\n",
      "(6600, 19054) (6600,)\n"
     ]
    }
   ],
   "source": [
    "# we use the fitted CountVectorizer to convert the text to vector\n",
    "X1_train_bow = bow.fit_transform(X1_train)\n",
    "X1_cv_bow = bow.transform(X1_cv)\n",
    "X1_test_bow = bow.transform(X1_test)\n",
    "\n",
    "print(\"After vectorizations\")\n",
    "print(X1_train_bow.shape, y1_train.shape)\n",
    "print(X1_cv_bow.shape, y1_cv.shape)\n",
    "print(X1_test_bow.shape, y1_test.shape)"
   ]
  },
  {
   "cell_type": "code",
   "execution_count": 0,
   "metadata": {
    "colab": {
     "base_uri": "https://localhost:8080/",
     "height": 294
    },
    "colab_type": "code",
    "id": "dca77o_UBtrm",
    "outputId": "d2b0d275-206b-48ca-9029-fcc45e7daa8d"
   },
   "outputs": [
    {
     "data": {
      "image/png": "[encoded data removed]",
      "text/plain": [
       "<Figure size 432x288 with 1 Axes>"
      ]
     },
     "metadata": {
      "tags": []
     },
     "output_type": "display_data"
    }
   ],
   "source": [
    "\n",
    "#C = [1, 5, 10, 15, 21, 31, 41, 51]\n",
    "#from pylab import scatter\n",
    "#import pylab\n",
    "#import math\n",
    "train_auc_kd_bow = []\n",
    "cv_auc_kd_bow = []\n",
    "for a in C:\n",
    "    neigh_kd_bow = KNeighborsClassifier(n_neighbors=a,algorithm='kd_tree')\n",
    "    model_kd_bow = neigh_kd_bow.fit(X1_train_bow, y1_train)\n",
    "    # roc_auc_score(y_true, y_score) the 2nd parameter should be probability estimates of the positive class\n",
    "    # not the predicted outputs\n",
    "    y1_train_pred_kd_bow =  model_kd_bow.predict_proba(X1_train_bow)[:,1]\n",
    "    y1_cv_pred_kd_bow =  model_kd_bow.predict_proba(X1_cv_bow)[:,1]\n",
    "    train_auc_kd_bow.append(roc_auc_score(y1_train,y1_train_pred_kd_bow))\n",
    "    cv_auc_kd_bow.append(roc_auc_score(y1_cv, y1_cv_pred_kd_bow))\n",
    "    \n",
    "\n",
    "plt.plot(np.log(C), train_auc_kd_bow, label='Train AUC')\n",
    "plt.plot(np.log(C), cv_auc_kd_bow, label='CV AUC')\n",
    "plt.legend()\n",
    "plt.xlabel(\"K: hyperparameter\")\n",
    "plt.ylabel(\"AUC\")\n",
    "plt.title(\"ERROR PLOTS\")\n",
    "plt.show()"
   ]
  },
  {
   "cell_type": "code",
   "execution_count": 0,
   "metadata": {
    "colab": {
     "base_uri": "https://localhost:8080/",
     "height": 51
    },
    "colab_type": "code",
    "id": "hILgjsGhCkHT",
    "outputId": "662dc58c-22a3-49e3-ba74-905e898a332f"
   },
   "outputs": [
    {
     "name": "stdout",
     "output_type": "stream",
     "text": [
      "\n",
      "The optimal number of cv value in C is 51.000000.\n"
     ]
    }
   ],
   "source": [
    "optimal_alpha_kd_bow = C[cv_auc_kd_bow.index(max(cv_auc_kd_bow))]\n",
    "print('\\nThe optimal number of cv value in C is %f.' % optimal_alpha_kd_bow)"
   ]
  },
  {
   "cell_type": "code",
   "execution_count": 0,
   "metadata": {
    "colab": {
     "base_uri": "https://localhost:8080/",
     "height": 68
    },
    "colab_type": "code",
    "id": "druuB_ZvDsTc",
    "outputId": "676e3d50-7b61-4ede-82a0-767af211e360"
   },
   "outputs": [
    {
     "data": {
      "text/plain": [
       "KNeighborsClassifier(algorithm='auto', leaf_size=30, metric='minkowski',\n",
       "           metric_params=None, n_jobs=None, n_neighbors=51, p=2,\n",
       "           weights='uniform')"
      ]
     },
     "execution_count": 43,
     "metadata": {
      "tags": []
     },
     "output_type": "execute_result"
    }
   ],
   "source": [
    "# instantiate learning model alpha = optimal_alpha\n",
    "knn_optimal_kd_bow = KNeighborsClassifier(n_neighbors=optimal_alpha_kd_bow)\n",
    "# fitting the model\n",
    "knn_optimal_kd_bow.fit(X1_train_bow, y1_train)"
   ]
  },
  {
   "cell_type": "code",
   "execution_count": 0,
   "metadata": {
    "colab": {
     "base_uri": "https://localhost:8080/",
     "height": 724
    },
    "colab_type": "code",
    "id": "OBNeh0o2Czu3",
    "outputId": "d4eefa6e-79f1-448b-befe-d345f6033a7f"
   },
   "outputs": [
    {
     "name": "stdout",
     "output_type": "stream",
     "text": [
      "\n",
      "The auc socre for value= 51.000000 is 0.517444%\n",
      "[[  46 1002]\n",
      " [  50 5502]]\n",
      "   \n"
     ]
    },
    {
     "data": {
      "image/png": "[encoded data removed]",
      "text/plain": [
       "<Figure size 432x288 with 2 Axes>"
      ]
     },
     "metadata": {
      "tags": []
     },
     "output_type": "display_data"
    },
    {
     "name": "stdout",
     "output_type": "stream",
     "text": [
      "***************************************************************************\n",
      "[[  86 1369]\n",
      " [  58 7465]]\n",
      "   \n"
     ]
    },
    {
     "data": {
      "image/png": "[encoded data removed]",
      "text/plain": [
       "<Figure size 432x288 with 2 Axes>"
      ]
     },
     "metadata": {
      "tags": []
     },
     "output_type": "display_data"
    }
   ],
   "source": [
    "#\n",
    "pred_kd_bow=knn_optimal_kd_bow.predict(X1_test_bow)\n",
    "pred_kd_bow_train=knn_optimal_kd_bow.predict(X1_train_bow)\n",
    "# evaluate accuracy on test data\n",
    "from sklearn.metrics import roc_auc_score\n",
    "auc_kd_bow = roc_auc_score(y1_test, pred_kd_bow)\n",
    "print('\\nThe auc socre for value= %f is %f%%' % (optimal_alpha_kd_bow, auc_kd_bow))\n",
    "# Confusion Matrix\n",
    "from sklearn.metrics import confusion_matrix\n",
    "cm_kd_bow = confusion_matrix(y1_test, pred_kd_bow)\n",
    "print(cm_kd_bow)\n",
    "print('   ')\n",
    "# plotting confusion matrix to describe the performance of classifier.\n",
    "#import seaborn as sns\n",
    "#class_label = [\"negative\", \"positive\"]\n",
    "df_kd_bow = pd.DataFrame(cm_kd_bow, index = class_label, columns = class_label)\n",
    "sns.heatmap(df_kd_bow, annot = True, fmt = \"d\")\n",
    "plt.title(\"Confusion Matrix\")\n",
    "plt.xlabel(\"Predicted Label\")\n",
    "plt.ylabel(\"True Label\")\n",
    "plt.show()\n",
    "\n",
    "print('***************************************************************************')\n",
    "\n",
    "cm_kd_bow1 = confusion_matrix(y1_train, pred_kd_bow_train)\n",
    "print(cm_kd_bow1)\n",
    "print('   ')\n",
    "# plotting confusion matrix to describe the performance of classifier.\n",
    "#import seaborn as sns\n",
    "#class_label1 = [\"negative\", \"positive\"]\n",
    "cm1_kd_bow = pd.DataFrame(cm_kd_bow1, index = class_label, columns = class_label)\n",
    "sns.heatmap(cm1_kd_bow, annot = True, fmt = \"d\")\n",
    "plt.title(\"Confusion Matrix\")\n",
    "plt.xlabel(\"Predicted Label\")\n",
    "plt.ylabel(\"True Label\")\n",
    "plt.show()"
   ]
  },
  {
   "cell_type": "code",
   "execution_count": 0,
   "metadata": {
    "colab": {
     "base_uri": "https://localhost:8080/",
     "height": 294
    },
    "colab_type": "code",
    "id": "Hi5q8ACvEq8F",
    "outputId": "c338eb90-ec03-47dd-9566-3894d31439df"
   },
   "outputs": [
    {
     "data": {
      "image/png": "[encoded data removed]",
      "text/plain": [
       "<Figure size 432x288 with 1 Axes>"
      ]
     },
     "metadata": {
      "tags": []
     },
     "output_type": "display_data"
    }
   ],
   "source": [
    "\n",
    "from sklearn import metrics\n",
    "y1_test_predict =  knn_optimal_kd_bow.predict_proba(X1_test_bow)[:,1]\n",
    "y1_train_predict =  knn_optimal_kd_bow.predict_proba(X1_train_bow)[:,1]\n",
    "kd_fpr1,kd_tpr1,_ =  metrics.roc_curve(y1_train,y1_train_predict) \n",
    "kd_fpr,kd_tpr, _ = metrics.roc_curve(y1_test,y1_test_predict)\n",
    "\n",
    "roc_auc_kd = auc(kd_fpr, kd_tpr) \n",
    "roc_auc1_kd = auc(kd_fpr1,kd_tpr1) \n",
    "### Plot\n",
    "plt.figure()\n",
    "#lw = 3\n",
    "plt.plot(kd_fpr, kd_tpr, color='darkorange',\n",
    "         lw=lw, label='ROC curve_test (area = %0.2f)' % roc_auc_kd)\n",
    "plt.plot(kd_fpr1,kd_tpr1, color='navy', lw=lw, linestyle='--',label='ROC curve_train (area = %0.2f)' % roc_auc1_kd)\n",
    "plt.xlim([0.0, 1.0])\n",
    "plt.ylim([0.0, 1.05])\n",
    "plt.xlabel('False Positive Rate')\n",
    "plt.ylabel('True Positive Rate')\n",
    "plt.title('Roc_Auc curve')\n",
    "plt.legend()\n",
    "plt.show()"
   ]
  },
  {
   "cell_type": "markdown",
   "metadata": {
    "colab_type": "text",
    "id": "j7gsBq1t_ZFs"
   },
   "source": [
    "##  Tfidf"
   ]
  },
  {
   "cell_type": "markdown",
   "metadata": {
    "colab_type": "text",
    "id": "ZA-lJFSQ_PdD"
   },
   "source": [
    "### Applying KNN using brute on tfidf"
   ]
  },
  {
   "cell_type": "code",
   "execution_count": 30,
   "metadata": {
    "colab": {
     "base_uri": "https://localhost:8080/",
     "height": 51
    },
    "colab_type": "code",
    "id": "0yEQUYXdd7QQ",
    "outputId": "896fdf80-7a82-4456-d4cf-f3a7199f940f"
   },
   "outputs": [
    {
     "data": {
      "text/plain": [
       "<44890x40977 sparse matrix of type '<class 'numpy.float64'>'\n",
       "\twith 1482378 stored elements in Compressed Sparse Row format>"
      ]
     },
     "execution_count": 30,
     "metadata": {
      "tags": []
     },
     "output_type": "execute_result"
    }
   ],
   "source": [
    "tf_idf_vect = TfidfVectorizer()\n",
    "X_train_tfidf = tf_idf_vect.fit_transform(X_train)\n",
    "X_train_tfidf"
   ]
  },
  {
   "cell_type": "code",
   "execution_count": 0,
   "metadata": {
    "colab": {},
    "colab_type": "code",
    "id": "vAZIfiipeSni"
   },
   "outputs": [],
   "source": [
    "# Convert test text data to its vectorizor\n",
    "X_test_tfidf = tf_idf_vect.transform(X_test)\n",
    "X_cv_tfidf=tf_idf_vect.transform(X_cv)"
   ]
  },
  {
   "cell_type": "code",
   "execution_count": 32,
   "metadata": {
    "colab": {
     "base_uri": "https://localhost:8080/",
     "height": 294
    },
    "colab_type": "code",
    "id": "OKqnaI9puDYO",
    "outputId": "bfc7f7d9-4f7a-406d-e354-259cda079e1f"
   },
   "outputs": [
    {
     "data": {
      "image/png": "[encoded data removed]",
      "text/plain": [
       "<Figure size 432x288 with 1 Axes>"
      ]
     },
     "metadata": {
      "tags": []
     },
     "output_type": "display_data"
    }
   ],
   "source": [
    "\n",
    "from pylab import scatter\n",
    "import pylab\n",
    "import math\n",
    "train_auc_tfidf = []\n",
    "cv_auc_tfidf = []\n",
    "C = [1, 5, 10, 15, 21, 31, 41, 51]\n",
    "for j in C:\n",
    "    neigh_tfidf = KNeighborsClassifier(n_neighbors=j,algorithm='brute')\n",
    "    model_tfidf = neigh_tfidf.fit(X_train_tfidf, y_train)\n",
    "    # roc_auc_score(y_true, y_score) the 2nd parameter should be probability estimates of the positive class\n",
    "    # not the predicted outputs\n",
    "    y_train_pred_tfidf =  model_tfidf.predict_proba(X_train_tfidf)[:,1]\n",
    "    y_cv_pred_tfidf =  model_tfidf.predict_proba(X_cv_tfidf)[:,1]\n",
    "    \n",
    "    \n",
    "    train_auc_tfidf.append(roc_auc_score(y_train,y_train_pred_tfidf))\n",
    "    cv_auc_tfidf.append(roc_auc_score(y_cv, y_cv_pred_tfidf))\n",
    "    \n",
    "\n",
    "plt.plot(list(map(lambda x:math.log(x),C)), train_auc_tfidf, label='Train AUC')\n",
    "plt.plot(list(map(lambda y:math.log(y),C)), cv_auc_tfidf, label='CV AUC')\n",
    "plt.legend()\n",
    "plt.xlabel(\"K: hyperparameter\")\n",
    "plt.ylabel(\"AUC\")\n",
    "plt.title(\"ERROR PLOTS\")\n",
    "plt.show()"
   ]
  },
  {
   "cell_type": "code",
   "execution_count": 33,
   "metadata": {
    "colab": {
     "base_uri": "https://localhost:8080/",
     "height": 51
    },
    "colab_type": "code",
    "id": "Tzk2s_GCvK8Q",
    "outputId": "791fe4aa-2bb3-451d-b865-b34b32ef4fa8"
   },
   "outputs": [
    {
     "name": "stdout",
     "output_type": "stream",
     "text": [
      "\n",
      "The optimal number of cv value in C is 5.000000.\n"
     ]
    }
   ],
   "source": [
    "optimal_alpha_tfidf = C[cv_auc_tfidf.index(max(cv_auc_tfidf))]\n",
    "print('\\nThe optimal number of cv value in C is %f.' % optimal_alpha_tfidf)"
   ]
  },
  {
   "cell_type": "code",
   "execution_count": 34,
   "metadata": {
    "colab": {
     "base_uri": "https://localhost:8080/",
     "height": 68
    },
    "colab_type": "code",
    "id": "RFQFbVB-sHJB",
    "outputId": "efecb489-21bc-4791-95ba-a5bfd68c43cb"
   },
   "outputs": [
    {
     "data": {
      "text/plain": [
       "KNeighborsClassifier(algorithm='auto', leaf_size=30, metric='minkowski',\n",
       "           metric_params=None, n_jobs=None, n_neighbors=5, p=2,\n",
       "           weights='uniform')"
      ]
     },
     "execution_count": 34,
     "metadata": {
      "tags": []
     },
     "output_type": "execute_result"
    }
   ],
   "source": [
    "# instantiate learning model alpha = optimal_alpha\n",
    "knn_optimal_tfidf = KNeighborsClassifier(n_neighbors=optimal_alpha_tfidf)\n",
    "# fitting the model\n",
    "knn_optimal_tfidf.fit(X_train_tfidf, y_train)"
   ]
  },
  {
   "cell_type": "code",
   "execution_count": 35,
   "metadata": {
    "colab": {
     "base_uri": "https://localhost:8080/",
     "height": 51
    },
    "colab_type": "code",
    "id": "ZxhTLTZtrUx_",
    "outputId": "4064fa63-954f-41b8-8253-6de71097e43a"
   },
   "outputs": [
    {
     "name": "stdout",
     "output_type": "stream",
     "text": [
      "\n",
      "The auc socre for value= 5.000000 is 0.501259%\n"
     ]
    }
   ],
   "source": [
    "#predicting\n",
    "pred_tfidf_test1=knn_optimal_tfidf.predict(X_test_tfidf)\n",
    "pred_tfidf_train1=knn_optimal_tfidf.predict(X_train_tfidf)\n",
    "# evaluate accuracy on test data\n",
    "from sklearn.metrics import roc_auc_score\n",
    "auc_tfidf = roc_auc_score(y_test, pred_tfidf_test1)\n",
    "print('\\nThe auc socre for value= %f is %f%%' % (optimal_alpha_tfidf, auc_tfidf))"
   ]
  },
  {
   "cell_type": "code",
   "execution_count": 36,
   "metadata": {
    "colab": {
     "base_uri": "https://localhost:8080/",
     "height": 690
    },
    "colab_type": "code",
    "id": "8RHEAimtxKTT",
    "outputId": "cfeceeaf-a84a-46b4-8009-66651079b4e1"
   },
   "outputs": [
    {
     "name": "stdout",
     "output_type": "stream",
     "text": [
      "[[  144  5090]\n",
      " [  694 27072]]\n",
      "   \n"
     ]
    },
    {
     "data": {
      "image/png": "[encoded data removed]",
      "text/plain": [
       "<Figure size 432x288 with 2 Axes>"
      ]
     },
     "metadata": {
      "tags": []
     },
     "output_type": "display_data"
    },
    {
     "name": "stdout",
     "output_type": "stream",
     "text": [
      "***************************************************************************\n",
      "[[  861  6147]\n",
      " [  475 37407]]\n",
      "   \n"
     ]
    },
    {
     "data": {
      "image/png": "[encoded data removed]",
      "text/plain": [
       "<Figure size 432x288 with 2 Axes>"
      ]
     },
     "metadata": {
      "tags": []
     },
     "output_type": "display_data"
    }
   ],
   "source": [
    "# Confusion Matrix\n",
    "from sklearn.metrics import confusion_matrix\n",
    "cm_tfidf1 = confusion_matrix(y_test, pred_tfidf_test1)\n",
    "print(cm_tfidf1)\n",
    "print('   ')\n",
    "# plotting confusion matrix to describe the performance of classifier.\n",
    "import seaborn as sns\n",
    "class_label = [\"negative\", \"positive\"]\n",
    "df_cm1 = pd.DataFrame(cm_tfidf1, index = class_label, columns = class_label)\n",
    "sns.heatmap(df_cm1, annot = True, fmt = \"d\")\n",
    "plt.title(\"Confusion Matrix\")\n",
    "plt.xlabel(\"Predicted Label\")\n",
    "plt.ylabel(\"True Label\")\n",
    "plt.show()\n",
    "\n",
    "print('***************************************************************************')\n",
    "\n",
    "cm_tfidf2 = confusion_matrix(y_train, pred_tfidf_train1)\n",
    "print(cm_tfidf2)\n",
    "print('   ')\n",
    "# plotting confusion matrix to describe the performance of classifier.\n",
    "import seaborn as sns\n",
    "#class_label1 = [\"negative\", \"positive\"]\n",
    "df_cm2 = pd.DataFrame(cm_tfidf2, index = class_label, columns = class_label)\n",
    "sns.heatmap(df_cm2, annot = True, fmt = \"d\")\n",
    "plt.title(\"Confusion Matrix\")\n",
    "plt.xlabel(\"Predicted Label\")\n",
    "plt.ylabel(\"True Label\")\n",
    "plt.show()"
   ]
  },
  {
   "cell_type": "code",
   "execution_count": 37,
   "metadata": {
    "colab": {
     "base_uri": "https://localhost:8080/",
     "height": 294
    },
    "colab_type": "code",
    "id": "nDsRNgBjx7vt",
    "outputId": "0fe5d951-3f0d-455f-a279-d274296e4e9a"
   },
   "outputs": [
    {
     "data": {
      "image/png": "[encoded data removed]",
      "text/plain": [
       "<Figure size 432x288 with 1 Axes>"
      ]
     },
     "metadata": {
      "tags": []
     },
     "output_type": "display_data"
    }
   ],
   "source": [
    "### \n",
    "from sklearn import metrics\n",
    "y_test_predict_tfidf =  knn_optimal_tfidf.predict_proba(X_test_tfidf)[:,1]\n",
    "y_train_predict_tfidf=  knn_optimal_tfidf.predict_proba(X_train_tfidf)[:,1]\n",
    "fpr_tfidf,tpr_tfidf,_ =  metrics.roc_curve(y_train,y_train_predict_tfidf) \n",
    "fpr_tfidf1,tpr_tfidf1, _ = metrics.roc_curve(y_test,y_test_predict_tfidf)\n",
    "\n",
    "roc_auc_test_tfidf = auc(fpr_tfidf1, tpr_tfidf1) \n",
    "roc_auc_train_tfidf = auc(fpr_tfidf,tpr_tfidf) \n",
    "### Plot\n",
    "plt.figure()\n",
    "lw = 3 \n",
    "plt.plot(fpr_tfidf1, tpr_tfidf1, color='darkorange',\n",
    "         lw=lw, label='ROC curve_test (area = %0.2f)' % roc_auc_test_tfidf)\n",
    "plt.plot(fpr_tfidf,tpr_tfidf , color='navy', lw=lw, linestyle='--',label='ROC curve_train (area = %0.2f)' % roc_auc_train_tfidf)\n",
    "plt.xlim([0.0, 1.0])\n",
    "plt.ylim([0.0, 1.05])\n",
    "plt.xlabel('False Positive Rate')\n",
    "plt.ylabel('True Positive Rate')\n",
    "plt.title('Roc_Auc curve')\n",
    "plt.legend()\n",
    "plt.show()"
   ]
  },
  {
   "cell_type": "markdown",
   "metadata": {
    "colab_type": "text",
    "id": "J8JrSYv9vJgv"
   },
   "source": [
    "### Applying using Kdtree"
   ]
  },
  {
   "cell_type": "code",
   "execution_count": 0,
   "metadata": {
    "colab": {},
    "colab_type": "code",
    "id": "vuRBk4HZxI_k"
   },
   "outputs": [],
   "source": [
    "X1_train_tfidf = tf_idf_vect.fit_transform(X1_train)\n",
    "X1_test_tfidf = tf_idf_vect.transform(X1_test)\n",
    "X1_cv_tfidf = tf_idf_vect.transform(X1_cv)"
   ]
  },
  {
   "cell_type": "code",
   "execution_count": 39,
   "metadata": {
    "colab": {
     "base_uri": "https://localhost:8080/",
     "height": 294
    },
    "colab_type": "code",
    "id": "JeK-RCJ5G1sI",
    "outputId": "c778daa6-b344-47c6-9b2b-2ae1953e9165"
   },
   "outputs": [
    {
     "data": {
      "image/png": "[encoded data removed]",
      "text/plain": [
       "<Figure size 432x288 with 1 Axes>"
      ]
     },
     "metadata": {
      "tags": []
     },
     "output_type": "display_data"
    }
   ],
   "source": [
    "\n",
    "#from pylab import scatter\n",
    "#import pylab\n",
    "#import math\n",
    "train_auc_kd_tfidf = []\n",
    "cv_auc_kd_tfidf = []\n",
    "#C = [1, 5, 10, 15, 21, 31, 41, 51]\n",
    "for b in C:\n",
    "    neigh_kd_tfidf = KNeighborsClassifier(n_neighbors=b,algorithm='kd_tree')\n",
    "    model_kd_tfidf = neigh_kd_tfidf.fit(X1_train_tfidf, y1_train)\n",
    "    # roc_auc_score(y_true, y_score) the 2nd parameter should be probability estimates of the positive class\n",
    "    # not the predicted outputs\n",
    "    y1_train_pred_kd_tfidf =  model_kd_tfidf.predict_proba(X1_train_tfidf)[:,1]\n",
    "    y1_cv_pred_kd_tfidf =  model_kd_tfidf.predict_proba(X1_cv_tfidf)[:,1]\n",
    "    \n",
    "    \n",
    "    train_auc_kd_tfidf.append(roc_auc_score(y1_train,y1_train_pred_kd_tfidf))\n",
    "    cv_auc_kd_tfidf.append(roc_auc_score(y1_cv, y1_cv_pred_kd_tfidf))\n",
    "    \n",
    "\n",
    "plt.plot(list(map(lambda x:math.log(x),C)), train_auc_kd_tfidf, label='Train AUC')\n",
    "plt.plot(list(map(lambda y:math.log(y),C)), cv_auc_kd_tfidf, label='CV AUC')\n",
    "plt.legend()\n",
    "plt.xlabel(\"K: hyperparameter\")\n",
    "plt.ylabel(\"AUC\")\n",
    "plt.title(\"ERROR PLOTS\")\n",
    "plt.show()"
   ]
  },
  {
   "cell_type": "code",
   "execution_count": 40,
   "metadata": {
    "colab": {
     "base_uri": "https://localhost:8080/",
     "height": 51
    },
    "colab_type": "code",
    "id": "dC9ad81IxI_o",
    "outputId": "0ce5b8f7-f481-4a51-acb7-efff759f6d2a"
   },
   "outputs": [
    {
     "name": "stdout",
     "output_type": "stream",
     "text": [
      "\n",
      "The optimal number of cv value in C is 51.000000.\n"
     ]
    }
   ],
   "source": [
    "optimal_alpha_kd_tfidf = C[cv_auc_kd_tfidf.index(max(cv_auc_kd_tfidf))]\n",
    "print('\\nThe optimal number of cv value in C is %f.' % optimal_alpha_kd_tfidf)"
   ]
  },
  {
   "cell_type": "code",
   "execution_count": 41,
   "metadata": {
    "colab": {
     "base_uri": "https://localhost:8080/",
     "height": 68
    },
    "colab_type": "code",
    "id": "e0T1Q-n3xI_y",
    "outputId": "fa263a1e-531d-41c4-d18a-2df0f43d51b3"
   },
   "outputs": [
    {
     "data": {
      "text/plain": [
       "KNeighborsClassifier(algorithm='auto', leaf_size=30, metric='minkowski',\n",
       "           metric_params=None, n_jobs=None, n_neighbors=51, p=2,\n",
       "           weights='uniform')"
      ]
     },
     "execution_count": 41,
     "metadata": {
      "tags": []
     },
     "output_type": "execute_result"
    }
   ],
   "source": [
    "# instantiate learning model alpha = optimal_alpha\n",
    "knn_optimal_kd_tfidf = KNeighborsClassifier(n_neighbors=optimal_alpha_kd_tfidf)\n",
    "# fitting the model\n",
    "knn_optimal_kd_tfidf.fit(X1_train_tfidf, y1_train)"
   ]
  },
  {
   "cell_type": "code",
   "execution_count": 42,
   "metadata": {
    "colab": {
     "base_uri": "https://localhost:8080/",
     "height": 51
    },
    "colab_type": "code",
    "id": "ZvB_bLOaxI__",
    "outputId": "ff07e582-cd4b-46a8-ec7c-96be3bee6ef5"
   },
   "outputs": [
    {
     "name": "stdout",
     "output_type": "stream",
     "text": [
      "\n",
      "The Auc socre for value= 51.000000 is 0.500000%\n"
     ]
    }
   ],
   "source": [
    "pred_kd_tfidf=knn_optimal_kd_tfidf.predict(X1_test_tfidf)\n",
    "pred_kd_tfidf_train=knn_optimal_kd_tfidf.predict(X1_train_tfidf)\n",
    "# evaluate accuracy on test data\n",
    "from sklearn.metrics import roc_auc_score\n",
    "auc_kd_tfidf = roc_auc_score(y1_test, pred_kd_tfidf)\n",
    "print('\\nThe Auc socre for value= %f is %f%%' % (optimal_alpha_kd_tfidf, auc_kd_tfidf))"
   ]
  },
  {
   "cell_type": "code",
   "execution_count": 43,
   "metadata": {
    "colab": {
     "base_uri": "https://localhost:8080/",
     "height": 690
    },
    "colab_type": "code",
    "id": "n_AiAsHdxJAF",
    "outputId": "2e271a93-0233-4bf4-f499-68ba20d1b4bd"
   },
   "outputs": [
    {
     "name": "stdout",
     "output_type": "stream",
     "text": [
      "[[   0 1070]\n",
      " [   0 5530]]\n",
      "   \n"
     ]
    },
    {
     "data": {
      "image/png": "[encoded data removed]",
      "text/plain": [
       "<Figure size 432x288 with 2 Axes>"
      ]
     },
     "metadata": {
      "tags": []
     },
     "output_type": "display_data"
    },
    {
     "name": "stdout",
     "output_type": "stream",
     "text": [
      "*************************************************************************************************\n",
      "[[   2 1359]\n",
      " [   0 7617]]\n",
      "   \n"
     ]
    },
    {
     "data": {
      "image/png": "[encoded data removed]",
      "text/plain": [
       "<Figure size 432x288 with 2 Axes>"
      ]
     },
     "metadata": {
      "tags": []
     },
     "output_type": "display_data"
    }
   ],
   "source": [
    "# Confusion Matrix\n",
    "from sklearn.metrics import confusion_matrix\n",
    "cm_kd_tfidf = confusion_matrix(y1_test, pred_kd_tfidf)\n",
    "print(cm_kd_tfidf)\n",
    "print('   ')\n",
    "# plotting confusion matrix to describe the performance of classifier.\n",
    "import seaborn as sns\n",
    "#class_label = [\"negative\", \"positive\"]\n",
    "df_cm_kd_tfidf = pd.DataFrame(cm_kd_tfidf, index = class_label, columns = class_label)\n",
    "sns.heatmap(df_cm_kd_tfidf, annot = True, fmt = \"d\")\n",
    "plt.title(\"Confusion Matrix\")\n",
    "plt.xlabel(\"Predicted Label\")\n",
    "plt.ylabel(\"True Label\")\n",
    "plt.show()\n",
    "\n",
    "print('*************************************************************************************************')\n",
    "\n",
    "cm_kd_tfidf1 = confusion_matrix(y1_train, pred_kd_tfidf_train)\n",
    "print(cm_kd_tfidf1)\n",
    "print('   ')\n",
    "# plotting confusion matrix to describe the performance of classifier.\n",
    "import seaborn as sns\n",
    "#class_label = [\"negative\", \"positive\"]\n",
    "df_cm1_kd_tfidf = pd.DataFrame(cm_kd_tfidf1, index = class_label, columns = class_label)\n",
    "sns.heatmap(df_cm1_kd_tfidf, annot = True, fmt = \"d\")\n",
    "plt.title(\"Confusion Matrix\")\n",
    "plt.xlabel(\"Predicted Label\")\n",
    "plt.ylabel(\"True Label\")\n",
    "plt.show()"
   ]
  },
  {
   "cell_type": "code",
   "execution_count": 44,
   "metadata": {
    "colab": {
     "base_uri": "https://localhost:8080/",
     "height": 294
    },
    "colab_type": "code",
    "id": "1VGoJL_3xJAL",
    "outputId": "174e7f84-465a-4b6f-a757-e8c240da1652"
   },
   "outputs": [
    {
     "data": {
      "image/png": "[encoded data removed]",
      "text/plain": [
       "<Figure size 432x288 with 1 Axes>"
      ]
     },
     "metadata": {
      "tags": []
     },
     "output_type": "display_data"
    }
   ],
   "source": [
    "### Computing ROC curve and ROC area for predictions on l1 validation set\n",
    "from sklearn import metrics\n",
    "y1_test_tfidf_predict =  knn_optimal_kd_tfidf.predict_proba(X1_test_tfidf)[:,1]\n",
    "y1_train_tfidf_predict =  knn_optimal_kd_tfidf.predict_proba(X1_train_tfidf)[:,1]\n",
    "kd_fpr_tfidf,kd_tpr_tfidf,_ =  metrics.roc_curve(y1_train,y1_train_tfidf_predict) \n",
    "kd_fpr_tfidf_l1,kd_tpr_tfidf_l1, _ = metrics.roc_curve(y1_test,y1_test_tfidf_predict)\n",
    "\n",
    "roc_auc_kd_tfidf = auc(kd_fpr_tfidf, kd_tpr_tfidf) \n",
    "roc_auc1_kd_tfidf = auc(kd_fpr_tfidf_l1,kd_tpr_tfidf_l1) \n",
    "### Plot\n",
    "plt.figure()\n",
    "#lw = 3\n",
    "plt.plot(kd_fpr_tfidf_l1, kd_tpr_tfidf_l1, color='darkorange',\n",
    "         lw=lw, label='ROC curve_test (area = %0.2f)' % roc_auc1_kd_tfidf)\n",
    "plt.plot(kd_fpr_tfidf,kd_tpr_tfidf, color='navy', lw=lw, linestyle='--',label='ROC curve_train (area = %0.2f)' % roc_auc_kd_tfidf)\n",
    "plt.xlim([0.0, 1.0])\n",
    "plt.ylim([0.0, 1.05])\n",
    "plt.xlabel('False Positive Rate')\n",
    "plt.ylabel('True Positive Rate')\n",
    "plt.title('Roc_Auc curve')\n",
    "plt.legend()\n",
    "plt.show()"
   ]
  },
  {
   "cell_type": "markdown",
   "metadata": {
    "colab_type": "text",
    "id": "31mh6nIgGxRu"
   },
   "source": [
    "## W2V"
   ]
  },
  {
   "cell_type": "code",
   "execution_count": 0,
   "metadata": {
    "colab": {},
    "colab_type": "code",
    "id": "De65xQsNgj8V"
   },
   "outputs": [],
   "source": [
    "#W2V\n",
    "\n",
    "import re\n",
    "import string\n",
    "def cleanhtml(sentence): #function to clean the word of any html-tags\n",
    "    cleanr = re.compile('<.*?>')\n",
    "    cleantext = re.sub(cleanr, ' ', sentence)\n",
    "    return cleantext\n",
    "def cleanpunc(sentence): #function to clean the word of any punctuation or special character\n",
    "    cleaned = re.sub(r'[?|!|\\'|\"|#]',r'',sentence)\n",
    "    cleaned = re.sub(r'[.|,|)|(|\\|/]',r' ',cleaned)\n",
    "    return cleaned \n",
    "# Removing the Punctuations and HTML Tags too\n",
    "\n",
    "from gensim.models import Word2Vec\n",
    "from gensim.models import KeyedVectors\n",
    "import pickle"
   ]
  },
  {
   "cell_type": "code",
   "execution_count": 46,
   "metadata": {
    "colab": {
     "base_uri": "https://localhost:8080/",
     "height": 156
    },
    "colab_type": "code",
    "id": "mCSdyCuLxJBb",
    "outputId": "22b4a3b1-60b3-47ef-a9d8-6ece57307bad"
   },
   "outputs": [
    {
     "name": "stdout",
     "output_type": "stream",
     "text": [
      "<class 'gensim.models.word2vec.Word2Vec'>\n",
      "number of words that occured minimum 5 times  13040\n",
      "sample words  ['great', 'coffee', 'especially', 'like', 'bold', 'flavor', 'use', 'product', 'satisfied', 'completely', 'missed', 'blend', 'note', 'thinking', 'coconut', 'flour', 'sure', 'many', 'people', 'looking', 'gluten', 'free', 'part', 'lower', 'carb', 'non', 'grain', 'primal', 'diet', 'not', 'work', 'rice', 'potato', 'starch', 'city', 'bread', 'love', 'keep', 'stored', 'freezer', 'take', 'needed', 'thaw', 'microwave', 'toast', 'purchase', 'thru', 'amazon', 'since', 'price']\n",
      "########################################\n",
      "<class 'gensim.models.word2vec.Word2Vec'>\n",
      "number of words that occured minimum 5 times  5660\n",
      "sample words  ['mini', 'marshmallows', 'impossible', 'find', 'anywhere', 'else', 'perfect', 'addition', 'hot', 'chocolate', 'basket', 'made', 'niece', 'nephew', 'christmas', 'received', 'quickly', 'no', 'problems', 'excellent', 'ways', 'old', 'dog', 'likes', 'much', 'bought', 'seem', 'go', 'pretty', 'quick', 'unfortunately', 'things', 'nature', 'hard', 'review', 'previous', 'reviews', 'nothing', 'really', 'add', 'check', 'ingredients', 'treats', 'make', 'informed', 'decision', 'good', 'luck', 'kraft', 'velveeta']\n"
     ]
    }
   ],
   "source": [
    "import gensim\n",
    "i=0\n",
    "sent_of_train=[]\n",
    "for sentance in X_train:\n",
    "    sent_of_train.append(sentance.split())\n",
    "w2v_model=gensim.models.Word2Vec(sent_of_train,min_count=5,size=200, workers=4)    \n",
    "print(type(w2v_model))\n",
    "w2v_words = list(w2v_model.wv.vocab)\n",
    "print(\"number of words that occured minimum 5 times \",len(w2v_words))\n",
    "print(\"sample words \", w2v_words[0:50])\n",
    "## for kd_tree\n",
    "print('##'*20)\n",
    "sent_of_train1=[]\n",
    "for sentance1 in X1_train:\n",
    "  sent_of_train1.append(sentance1.split())\n",
    "w2v_model1=gensim.models.Word2Vec(sent_of_train1,min_count=5,size=200, workers=4)    \n",
    "print(type(w2v_model1))\n",
    "w2v_words1 = list(w2v_model1.wv.vocab)\n",
    "print(\"number of words that occured minimum 5 times \",len(w2v_words1))\n",
    "print(\"sample words \", w2v_words1[0:50])"
   ]
  },
  {
   "cell_type": "code",
   "execution_count": 0,
   "metadata": {
    "colab": {},
    "colab_type": "code",
    "id": "IOftGcqqgj89",
    "scrolled": true
   },
   "outputs": [],
   "source": [
    "\n",
    "# List of sentence in X_test text\n",
    "sent_of_test=[]\n",
    "for sent1 in X_test:\n",
    "    sent_of_test.append(sent1.split())   \n",
    "#List of sentences in X_cv\n",
    "sent_of_cv=[]\n",
    "for sent2 in X_cv:\n",
    "    sent_of_cv.append(sent2.split())\n",
    "#####################################################################\n",
    "# List of sentence in X1_test text\n",
    "sent_of_test1=[]\n",
    "for sent11 in X1_test:\n",
    "    sent_of_test1.append(sent11.split())   \n",
    "#List of sentences in X1_cv\n",
    "sent_of_cv1=[]\n",
    "for sent21 in X1_cv:\n",
    "    sent_of_cv1.append(sent21.split())"
   ]
  },
  {
   "cell_type": "markdown",
   "metadata": {
    "colab_type": "text",
    "id": "VDXyJpxx_o-r"
   },
   "source": [
    "# AVG W2V"
   ]
  },
  {
   "cell_type": "code",
   "execution_count": 0,
   "metadata": {
    "colab": {},
    "colab_type": "code",
    "id": "YeV_f60kxJBl"
   },
   "outputs": [],
   "source": [
    "# compute average word2vec for each review for X_train .\n",
    "train_vectors = []; \n",
    "for sent1 in sent_of_train:\n",
    "    sent_vec = np.zeros(200) \n",
    "    cnt_words =0; \n",
    "    for word1 in sent1: # \n",
    "        if word1 in w2v_words:\n",
    "            vec = w2v_model.wv[word1]\n",
    "            sent_vec += vec\n",
    "            cnt_words += 1\n",
    "    if cnt_words != 0:\n",
    "        sent_vec /= cnt_words\n",
    "    train_vectors.append(sent_vec)\n",
    "    \n",
    "# compute average word2vec for each review for X_test .\n",
    "test_vectors = []; \n",
    "for sent11 in sent_of_test:\n",
    "    sent_vec = np.zeros(200) \n",
    "    cnt_words =0; \n",
    "    for word11 in sent11: # \n",
    "        if word11 in w2v_words:\n",
    "            vec = w2v_model.wv[word11]\n",
    "            sent_vec += vec\n",
    "            cnt_words += 1\n",
    "    if cnt_words != 0:\n",
    "        sent_vec /= cnt_words\n",
    "    test_vectors.append(sent_vec) \n",
    "    \n",
    "# compute average word2vec for each review for X_cv .\n",
    "cv_vectors = []; \n",
    "for sent111 in sent_of_cv:\n",
    "    sent_vec = np.zeros(200) \n",
    "    cnt_words =0; \n",
    "    for word111 in sent111: # \n",
    "        if word111 in w2v_words:\n",
    "            vec = w2v_model.wv[word111]\n",
    "            sent_vec += vec\n",
    "            cnt_words += 1\n",
    "    if cnt_words != 0:\n",
    "        sent_vec /= cnt_words\n",
    "    cv_vectors.append(sent_vec) "
   ]
  },
  {
   "cell_type": "code",
   "execution_count": 49,
   "metadata": {
    "colab": {
     "base_uri": "https://localhost:8080/",
     "height": 294
    },
    "colab_type": "code",
    "id": "dAiCghrfxJBs",
    "outputId": "73678d55-44f5-4bb2-f456-17754a39f069"
   },
   "outputs": [
    {
     "data": {
      "image/png": "[encoded data removed]",
      "text/plain": [
       "<Figure size 432x288 with 1 Axes>"
      ]
     },
     "metadata": {
      "tags": []
     },
     "output_type": "display_data"
    }
   ],
   "source": [
    "#C=[] \n",
    "train_avg_l1 = []\n",
    "cv_avg_l1= []\n",
    "for k in C:\n",
    "    neigh_avg_l1 = KNeighborsClassifier(n_neighbors=k,algorithm='brute')\n",
    "    model_avg_l1 = neigh_avg_l1.fit(train_vectors, y_train)\n",
    "    y_train_predavg_l1 =  model_avg_l1.predict_proba(train_vectors)[:,1]\n",
    "    y_cv_predavg_l1 =  model_avg_l1.predict_proba(cv_vectors)[:,1]\n",
    "    train_avg_l1.append(roc_auc_score(y_train,y_train_predavg_l1))\n",
    "    cv_avg_l1.append(roc_auc_score(y_cv, y_cv_predavg_l1))\n",
    "    \n",
    "#plt.plot(C,train_auc_tfidf_l1,label='Train AUC')\n",
    "#plt.plot(C,cv_auc_tfidf_l1, label='CV AUC')\n",
    "plt.plot(np.log(C), train_avg_l1, label='Train AUC')\n",
    "plt.plot(np.log(C), cv_avg_l1, label='CV AUC')\n",
    "plt.legend()\n",
    "plt.xlabel(\"K: hyperparameter\")\n",
    "plt.ylabel(\"AUC\")\n",
    "plt.title(\"ERROR PLOTS\")\n",
    "plt.show()"
   ]
  },
  {
   "cell_type": "code",
   "execution_count": 50,
   "metadata": {
    "colab": {
     "base_uri": "https://localhost:8080/",
     "height": 51
    },
    "colab_type": "code",
    "id": "XgasgFTwxJB2",
    "outputId": "b59e4023-e2c4-466b-99e4-eece9eb4af67"
   },
   "outputs": [
    {
     "name": "stdout",
     "output_type": "stream",
     "text": [
      "\n",
      "The optimal number of cv value in C is 51.000000.\n"
     ]
    }
   ],
   "source": [
    "optimal_alpha_w2v_cv = C[cv_avg_l1.index(max(cv_avg_l1))]\n",
    "print('\\nThe optimal number of cv value in C is %f.' % optimal_alpha_w2v_cv)"
   ]
  },
  {
   "cell_type": "code",
   "execution_count": 51,
   "metadata": {
    "colab": {
     "base_uri": "https://localhost:8080/",
     "height": 68
    },
    "colab_type": "code",
    "id": "Q_lFsI_GxJB5",
    "outputId": "9226de47-d728-4b74-d642-7fa675063780"
   },
   "outputs": [
    {
     "data": {
      "text/plain": [
       "KNeighborsClassifier(algorithm='auto', leaf_size=30, metric='minkowski',\n",
       "           metric_params=None, n_jobs=None, n_neighbors=51, p=2,\n",
       "           weights='uniform')"
      ]
     },
     "execution_count": 51,
     "metadata": {
      "tags": []
     },
     "output_type": "execute_result"
    }
   ],
   "source": [
    "# instantiate learning model alpha = optimal_alpha\n",
    "knn_optimal_w2v_l1 =KNeighborsClassifier(n_neighbors=optimal_alpha_w2v_cv)\n",
    "knn_optimal_w2v_l1.fit(train_vectors, y_train)"
   ]
  },
  {
   "cell_type": "code",
   "execution_count": 52,
   "metadata": {
    "colab": {
     "base_uri": "https://localhost:8080/",
     "height": 51
    },
    "colab_type": "code",
    "id": "50fySEyNgj9L",
    "outputId": "6393cb0d-6090-4cd7-b476-5af3446d1717"
   },
   "outputs": [
    {
     "name": "stdout",
     "output_type": "stream",
     "text": [
      "\n",
      "The Auc socre for value= 51.000000 is 0.613272%\n"
     ]
    }
   ],
   "source": [
    "pred_w2v_l1=knn_optimal_w2v_l1.predict(test_vectors)\n",
    "pred_w2v_train_l1=knn_optimal_w2v_l1.predict(train_vectors)\n",
    "# evaluate accuracy on test data\n",
    "from sklearn.metrics import roc_auc_score\n",
    "auc_w2v_l1 = roc_auc_score(y_test, pred_w2v_l1)\n",
    "print('\\nThe Auc socre for value= %f is %f%%' % (optimal_alpha_w2v_cv, auc_w2v_l1))"
   ]
  },
  {
   "cell_type": "code",
   "execution_count": 53,
   "metadata": {
    "colab": {
     "base_uri": "https://localhost:8080/",
     "height": 690
    },
    "colab_type": "code",
    "id": "5whPbwYZi7pL",
    "outputId": "c0ee5642-f090-4a38-859a-88b19c6556a6"
   },
   "outputs": [
    {
     "name": "stdout",
     "output_type": "stream",
     "text": [
      "[[ 1247  3987]\n",
      " [  325 27441]]\n",
      "   \n"
     ]
    },
    {
     "data": {
      "image/png": "[encoded data removed]",
      "text/plain": [
       "<Figure size 432x288 with 2 Axes>"
      ]
     },
     "metadata": {
      "tags": []
     },
     "output_type": "display_data"
    },
    {
     "name": "stdout",
     "output_type": "stream",
     "text": [
      "*************************************************************************************************\n",
      "[[ 1813  5195]\n",
      " [  427 37455]]\n",
      "   \n"
     ]
    },
    {
     "data": {
      "image/png": "[encoded data removed]",
      "text/plain": [
       "<Figure size 432x288 with 2 Axes>"
      ]
     },
     "metadata": {
      "tags": []
     },
     "output_type": "display_data"
    }
   ],
   "source": [
    "# Confusion Matrix\n",
    "from sklearn.metrics import confusion_matrix\n",
    "cm_avg = confusion_matrix(y_test, pred_w2v_l1)\n",
    "print(cm_avg)\n",
    "print('   ')\n",
    "# plotting confusion matrix to describe the performance of classifier.\n",
    "import seaborn as sns\n",
    "class_label = [\"negative\", \"positive\"]\n",
    "df_cm_w2v = pd.DataFrame(cm_avg, index = class_label, columns = class_label)\n",
    "sns.heatmap(df_cm_w2v, annot = True, fmt = \"d\")\n",
    "plt.title(\"Confusion Matrix\")\n",
    "plt.xlabel(\"Predicted Label\")\n",
    "plt.ylabel(\"True Label\")\n",
    "plt.show()\n",
    "\n",
    "print('*************************************************************************************************')\n",
    "\n",
    "cm_avg1 = confusion_matrix(y_train, pred_w2v_train_l1)\n",
    "print(cm_avg1)\n",
    "print('   ')\n",
    "# plotting confusion matrix to describe the performance of classifier.\n",
    "import seaborn as sns\n",
    "#class_label1 = [\"negative\", \"positive\"]\n",
    "df_cm1_w2v = pd.DataFrame(cm_avg1, index = class_label, columns = class_label)\n",
    "sns.heatmap(df_cm1_w2v, annot = True, fmt = \"d\")\n",
    "plt.title(\"Confusion Matrix\")\n",
    "plt.xlabel(\"Predicted Label\")\n",
    "plt.ylabel(\"True Label\")\n",
    "plt.show()"
   ]
  },
  {
   "cell_type": "code",
   "execution_count": 54,
   "metadata": {
    "colab": {
     "base_uri": "https://localhost:8080/",
     "height": 294
    },
    "colab_type": "code",
    "id": "Yj_K7iMei8Ce",
    "outputId": "29ce9a8b-ff55-44a4-cec9-28cf6b8f62f1"
   },
   "outputs": [
    {
     "data": {
      "image/png": "[encoded data removed]",
      "text/plain": [
       "<Figure size 432x288 with 1 Axes>"
      ]
     },
     "metadata": {
      "tags": []
     },
     "output_type": "display_data"
    }
   ],
   "source": [
    "### Computing ROC curve and ROC area for predictions on l1 validation set\n",
    "from sklearn import metrics\n",
    "y_test_w2v_predict =  knn_optimal_w2v_l1.predict_proba(test_vectors)[:,1]\n",
    "y_train_w2v_predict =  knn_optimal_w2v_l1.predict_proba(train_vectors)[:,1]\n",
    "fpr,tpr,_ =  metrics.roc_curve(y_train,y_train_w2v_predict) \n",
    "fpr_l1,tpr_l1, _ = metrics.roc_curve(y_test,y_test_w2v_predict)\n",
    "\n",
    "roc_auc = auc(fpr_l1, tpr_l1) \n",
    "roc_auc1 = auc(fpr,tpr) \n",
    "### Plot\n",
    "plt.figure()\n",
    "lw = 3\n",
    "plt.plot(fpr_l1, tpr_l1, color='darkorange',\n",
    "         lw=lw, label='ROC curve_test (area = %0.2f)' % roc_auc)\n",
    "plt.plot( fpr,tpr, color='navy', lw=lw, linestyle='--',label='ROC curve_train (area = %0.2f)' % roc_auc1)\n",
    "plt.xlim([0.0, 1.0])\n",
    "plt.ylim([0.0, 1.05])\n",
    "plt.xlabel('False Positive Rate')\n",
    "plt.ylabel('True Positive Rate')\n",
    "plt.title('Roc_Auc curve')\n",
    "plt.legend()\n",
    "plt.show()"
   ]
  },
  {
   "cell_type": "markdown",
   "metadata": {
    "colab_type": "text",
    "id": "4EG-zQN2bqE1"
   },
   "source": [
    "## Appplying KNN on AVG w2v using kdtree"
   ]
  },
  {
   "cell_type": "code",
   "execution_count": 0,
   "metadata": {
    "colab": {},
    "colab_type": "code",
    "id": "Ajhb63rV4ra5"
   },
   "outputs": [],
   "source": [
    "# compute average word2vec for each review for X1_train .\n",
    "train_vectors1 = []; \n",
    "for sent in sent_of_train1:\n",
    "    sent_vec1 = np.zeros(200) \n",
    "    cnt_words1 =0; \n",
    "    for word11 in sent: # \n",
    "        if word11 in w2v_words1:\n",
    "            vec1 = w2v_model1.wv[word11]\n",
    "            sent_vec1 += vec1\n",
    "            cnt_words1 += 1\n",
    "    if cnt_words1 != 0:\n",
    "        sent_vec1 /= cnt_words1\n",
    "    train_vectors1.append(sent_vec1)\n",
    "    \n",
    "# compute average word2vec for each review for X1_test .\n",
    "test_vectors1 = []; \n",
    "for sent111 in sent_of_test1:\n",
    "    sent_vec1 = np.zeros(200) \n",
    "    cnt_words1 =0; \n",
    "    for word111 in sent111: # \n",
    "        if word111 in w2v_words1:\n",
    "            vec1 = w2v_model1.wv[word11]\n",
    "            sent_vec1 += vec1\n",
    "            cnt_words1 += 1\n",
    "    if cnt_words1 != 0:\n",
    "        sent_vec1 /= cnt_words1\n",
    "    test_vectors1.append(sent_vec1) \n",
    "    \n",
    "# compute average word2vec for each review for X1_cv .\n",
    "cv_vectors1 = []; \n",
    "for sent112 in sent_of_cv1:\n",
    "    sent_vec1 = np.zeros(200) \n",
    "    cnt_words1 =0; \n",
    "    for word111 in sent112: # \n",
    "        if word111 in w2v_words1:\n",
    "            vec1 = w2v_model1.wv[word111]\n",
    "            sent_vec1 += vec1\n",
    "            cnt_words1 += 1\n",
    "    if cnt_words1 != 0:\n",
    "        sent_vec1 /= cnt_words1\n",
    "    cv_vectors1.append(sent_vec1) "
   ]
  },
  {
   "cell_type": "code",
   "execution_count": 56,
   "metadata": {
    "colab": {
     "base_uri": "https://localhost:8080/",
     "height": 294
    },
    "colab_type": "code",
    "id": "3Q_2HrJbbmks",
    "outputId": "e64cc258-6230-488d-e7bf-19e2bdf9c041"
   },
   "outputs": [
    {
     "data": {
      "image/png": "[encoded data removed]",
      "text/plain": [
       "<Figure size 432x288 with 1 Axes>"
      ]
     },
     "metadata": {
      "tags": []
     },
     "output_type": "display_data"
    }
   ],
   "source": [
    "\n",
    "\n",
    "train_avg_l2 = []\n",
    "cv_avg_l2= []\n",
    "for a in C:\n",
    "    neigh_avg_l2 = KNeighborsClassifier(n_neighbors=a,algorithm='kd_tree')\n",
    "    model_avg_l2 = neigh_avg_l2.fit(train_vectors1, y1_train)\n",
    "    y_train_predavg_l2 =  model_avg_l2.predict_proba(train_vectors1)[:,1]\n",
    "    y_cv_predavg_l2 =  model_avg_l2.predict_proba(cv_vectors1)[:,1]\n",
    "    train_avg_l2.append(roc_auc_score(y1_train,y_train_predavg_l2))\n",
    "    cv_avg_l2.append(roc_auc_score(y1_cv, y_cv_predavg_l2))\n",
    "    \n",
    "#plt.plot(C,train_auc_tfidf_l1,label='Train AUC')\n",
    "#plt.plot(C,cv_auc_tfidf_l1, label='CV AUC')\n",
    "plt.plot(np.log(C), train_avg_l2, label='Train AUC')\n",
    "plt.plot(np.log(C), cv_avg_l2, label='CV AUC')\n",
    "plt.legend()\n",
    "plt.xlabel(\"K: hyperparameter\")\n",
    "plt.ylabel(\"AUC\")\n",
    "plt.title(\"ERROR PLOTS\")\n",
    "plt.show()"
   ]
  },
  {
   "cell_type": "code",
   "execution_count": 57,
   "metadata": {
    "colab": {
     "base_uri": "https://localhost:8080/",
     "height": 51
    },
    "colab_type": "code",
    "id": "lB6pYhsRhJ5f",
    "outputId": "2cf630df-0f77-49c4-9d44-ed57cffaeeea"
   },
   "outputs": [
    {
     "name": "stdout",
     "output_type": "stream",
     "text": [
      "\n",
      "The optimal number of cv value in C is 41.000000.\n"
     ]
    }
   ],
   "source": [
    "optimal_alpha_w2v1_cv = C[cv_avg_l2.index(max(cv_avg_l2))]\n",
    "print('\\nThe optimal number of cv value in C is %f.' % optimal_alpha_w2v1_cv)"
   ]
  },
  {
   "cell_type": "code",
   "execution_count": 58,
   "metadata": {
    "colab": {
     "base_uri": "https://localhost:8080/",
     "height": 68
    },
    "colab_type": "code",
    "id": "MxsTebAYhJa_",
    "outputId": "be001bca-324d-44a1-f58c-231497bf8a62"
   },
   "outputs": [
    {
     "data": {
      "text/plain": [
       "KNeighborsClassifier(algorithm='auto', leaf_size=30, metric='minkowski',\n",
       "           metric_params=None, n_jobs=None, n_neighbors=41, p=2,\n",
       "           weights='uniform')"
      ]
     },
     "execution_count": 58,
     "metadata": {
      "tags": []
     },
     "output_type": "execute_result"
    }
   ],
   "source": [
    "# instantiate learning model alpha = optimal_alpha\n",
    "knn_optimal_w2v_l2 = KNeighborsClassifier(n_neighbors= optimal_alpha_w2v1_cv)\n",
    "# fitting the model\n",
    "knn_optimal_w2v_l2.fit(train_vectors1, y1_train)"
   ]
  },
  {
   "cell_type": "code",
   "execution_count": 59,
   "metadata": {
    "colab": {
     "base_uri": "https://localhost:8080/",
     "height": 51
    },
    "colab_type": "code",
    "id": "8a1HF3FQhIzP",
    "outputId": "4377e48f-6f8b-4d6e-89cd-64b5ac36a328"
   },
   "outputs": [
    {
     "name": "stdout",
     "output_type": "stream",
     "text": [
      "\n",
      "The Auc socre for value= 41.000000 is 0.500000%\n"
     ]
    }
   ],
   "source": [
    "pred_w2v_l2=knn_optimal_w2v_l2.predict(test_vectors1)\n",
    "pred_w2v_train_l2=knn_optimal_w2v_l2.predict(train_vectors1)\n",
    "# evaluate accuracy on test data\n",
    "from sklearn.metrics import roc_auc_score\n",
    "auc_w2v_l2 = roc_auc_score(y1_test, pred_w2v_l2)\n",
    "print('\\nThe Auc socre for value= %f is %f%%' % (optimal_alpha_w2v1_cv, auc_w2v_l2))"
   ]
  },
  {
   "cell_type": "code",
   "execution_count": 60,
   "metadata": {
    "colab": {
     "base_uri": "https://localhost:8080/",
     "height": 690
    },
    "colab_type": "code",
    "id": "9vfwlRSjkbYA",
    "outputId": "7dfa5bda-dfb7-4299-e34a-f8df6689d9b9"
   },
   "outputs": [
    {
     "name": "stdout",
     "output_type": "stream",
     "text": [
      "[[   0 1070]\n",
      " [   0 5530]]\n",
      "   \n"
     ]
    },
    {
     "data": {
      "image/png": "[encoded data removed]",
      "text/plain": [
       "<Figure size 432x288 with 2 Axes>"
      ]
     },
     "metadata": {
      "tags": []
     },
     "output_type": "display_data"
    },
    {
     "name": "stdout",
     "output_type": "stream",
     "text": [
      "*************************************************************************************************\n",
      "[[  22 1339]\n",
      " [   6 7611]]\n",
      "   \n"
     ]
    },
    {
     "data": {
      "image/png": "[encoded data removed]",
      "text/plain": [
       "<Figure size 432x288 with 2 Axes>"
      ]
     },
     "metadata": {
      "tags": []
     },
     "output_type": "display_data"
    }
   ],
   "source": [
    "# Confusion Matrix\n",
    "from sklearn.metrics import confusion_matrix\n",
    "cm_avg11 = confusion_matrix(y1_test, pred_w2v_l2)\n",
    "print(cm_avg11)\n",
    "print('   ')\n",
    "# plotting confusion matrix to describe the performance of classifier.\n",
    "import seaborn as sns\n",
    "#class_label = [\"negative\", \"positive\"]\n",
    "df_cm_w2v11 = pd.DataFrame(cm_avg11, index = class_label, columns = class_label)\n",
    "sns.heatmap(df_cm_w2v11, annot = True, fmt = \"d\")\n",
    "plt.title(\"Confusion Matrix\")\n",
    "plt.xlabel(\"Predicted Label\")\n",
    "plt.ylabel(\"True Label\")\n",
    "plt.show()\n",
    "\n",
    "print('*************************************************************************************************')\n",
    "\n",
    "cm_avg2 = confusion_matrix(y1_train, pred_w2v_train_l2)\n",
    "print(cm_avg2)\n",
    "print('   ')\n",
    "# plotting confusion matrix to describe the performance of classifier.\n",
    "import seaborn as sns\n",
    "#class_label1 = [\"negative\", \"positive\"]\n",
    "df_cm1_w2v2 = pd.DataFrame(cm_avg2, index = class_label, columns = class_label)\n",
    "sns.heatmap(df_cm1_w2v2, annot = True, fmt = \"d\")\n",
    "plt.title(\"Confusion Matrix\")\n",
    "plt.xlabel(\"Predicted Label\")\n",
    "plt.ylabel(\"True Label\")\n",
    "plt.show()"
   ]
  },
  {
   "cell_type": "code",
   "execution_count": 62,
   "metadata": {
    "colab": {
     "base_uri": "https://localhost:8080/",
     "height": 294
    },
    "colab_type": "code",
    "id": "7OI-Ij5vlIIT",
    "outputId": "55238c5f-ed65-4bc7-e7a5-c11ddd6e1a72"
   },
   "outputs": [
    {
     "data": {
      "image/png": "[encoded data removed]",
      "text/plain": [
       "<Figure size 432x288 with 1 Axes>"
      ]
     },
     "metadata": {
      "tags": []
     },
     "output_type": "display_data"
    }
   ],
   "source": [
    "### Computing ROC curve and ROC area for predictions on l1 validation set\n",
    "from sklearn import metrics\n",
    "y1_test_w2v_predict1 =  knn_optimal_w2v_l2.predict_proba(test_vectors1)[:,1]\n",
    "y1_train_w2v_predict1 =  knn_optimal_w2v_l2.predict_proba(train_vectors1)[:,1]\n",
    "fpr1,tpr1,_ =  metrics.roc_curve(y1_train,y1_train_w2v_predict1) \n",
    "fpr_l2,tpr_l2, _ = metrics.roc_curve(y1_test,y1_test_w2v_predict1)\n",
    "\n",
    "roc_auc11 = auc(fpr_l2, tpr_l2) \n",
    "roc_aucl2 = auc(fpr1,tpr1) \n",
    "### Plot\n",
    "plt.figure()\n",
    "#lw = 3\n",
    "plt.plot(fpr_l2, tpr_l2, color='darkorange',\n",
    "         lw=lw, label='ROC curve_test (area = %0.2f)' % roc_auc11)\n",
    "plt.plot( fpr1,tpr1,color='navy', lw=lw, linestyle='--',label='ROC curve_train (area = %0.2f)' % roc_aucl2)\n",
    "plt.xlim([0.0, 1.0])\n",
    "plt.ylim([0.0, 1.05])\n",
    "plt.xlabel('False Positive Rate')\n",
    "plt.ylabel('True Positive Rate')\n",
    "plt.title('Roc_Auc curve')\n",
    "plt.legend()\n",
    "plt.show()"
   ]
  },
  {
   "cell_type": "markdown",
   "metadata": {
    "colab_type": "text",
    "id": "9DUkFQT0hDr8"
   },
   "source": [
    "## TF_IDF W2v"
   ]
  },
  {
   "cell_type": "code",
   "execution_count": 63,
   "metadata": {
    "colab": {
     "base_uri": "https://localhost:8080/",
     "height": 34
    },
    "colab_type": "code",
    "id": "Y1SKozOWcfmO",
    "outputId": "cb6943ff-af6f-4aa6-b99b-7afe5f916742"
   },
   "outputs": [
    {
     "name": "stderr",
     "output_type": "stream",
     "text": [
      "100%|██████████| 44890/44890 [15:35<00:00, 45.20it/s]\n"
     ]
    }
   ],
   "source": [
    "# TF-IDF weighted Word2Vec\n",
    "tfidf_vectorizer = TfidfVectorizer()\n",
    "\n",
    "# final_tf_idf1 is the sparse matrix with row= sentence, col=word and cell_val = tfidf\n",
    "final_tfidf_train = tfidf_vectorizer.fit_transform(X_train)\n",
    "final_tfidf_test = tfidf_vectorizer.transform(X_test)\n",
    "final_tfidf_cv = tfidf_vectorizer.transform(X_cv)\n",
    "dictionary = dict(zip(tfidf_vectorizer.get_feature_names(), list(tfidf_vectorizer.idf_)))\n",
    "\n",
    "# tfidf words/col-names\n",
    "tfidf_features = tfidf_vectorizer.get_feature_names()\n",
    "\n",
    "# compute TFIDF Weighted Word2Vec for each review for X_train .\n",
    "tfidf_train_vectors = []; \n",
    "row=0;\n",
    "for senttrain in tqdm(sent_of_train): \n",
    "    sent_vec_train = np.zeros(200)\n",
    "    weight_sum_train =0; \n",
    "    for word_train in senttrain: \n",
    "        if word_train in w2v_words and word_train in tfidf_features:\n",
    "            vec_1 = w2v_model.wv[word_train]\n",
    "            # obtain the tf_idfidf of a word in a sentence/review\n",
    "            #tfidf_train = final_tfidf_train[row, tfidf_features.index(word_train)]\n",
    "            tfidf_train = dictionary[word_train]*(senttrain.count(word_train)/len(senttrain))\n",
    "            sent_vec_train += (vec_1 * tfidf_train)\n",
    "            weight_sum_train += tfidf_train\n",
    "    if weight_sum_train != 0:\n",
    "        sent_vec_train /= weight_sum_train\n",
    "    tfidf_train_vectors.append(sent_vec_train)\n",
    "    row += 1"
   ]
  },
  {
   "cell_type": "code",
   "execution_count": 64,
   "metadata": {
    "colab": {
     "base_uri": "https://localhost:8080/",
     "height": 34
    },
    "colab_type": "code",
    "id": "D_Q0iBMxcfxK",
    "outputId": "b84080f8-8d6f-4ced-c201-75b699f134f9"
   },
   "outputs": [
    {
     "name": "stderr",
     "output_type": "stream",
     "text": [
      "100%|██████████| 22110/22110 [07:33<00:00, 48.72it/s]\n"
     ]
    }
   ],
   "source": [
    "# compute TFIDF Weighted Word2Vec for each review for X_cv .\n",
    "tfidf_cv_vectors = []; \n",
    "#row=0;\n",
    "for sentcv in tqdm(sent_of_cv): \n",
    "    sent_vec_cv = np.zeros(200) \n",
    "    weight_sum_cv =0; \n",
    "    for word_cv in sentcv: \n",
    "        if word_cv in w2v_words and word_cv in tfidf_features:\n",
    "            vec_2 = w2v_model.wv[word_cv]\n",
    "            # obtain the tf_idfidf of a word in a sentence/review\n",
    "            #tfidf_cv = final_tfidf_cv[row, tfidf_features.index(word)]\n",
    "            tfidf_cv = dictionary[word_cv]*(sentcv.count(word_cv)/len(sentcv))\n",
    "            sent_vec_cv += (vec_2 * tfidf_cv)\n",
    "            weight_sum_cv += tfidf_cv\n",
    "    if weight_sum_cv != 0:\n",
    "        sent_vec_cv /= weight_sum_cv\n",
    "    tfidf_cv_vectors.append(sent_vec_cv)\n",
    "    row += 1"
   ]
  },
  {
   "cell_type": "code",
   "execution_count": 65,
   "metadata": {
    "colab": {
     "base_uri": "https://localhost:8080/",
     "height": 34
    },
    "colab_type": "code",
    "id": "MAAU6FgYcf7i",
    "outputId": "b6856c04-725a-48fd-a391-bc1416769f5f"
   },
   "outputs": [
    {
     "name": "stderr",
     "output_type": "stream",
     "text": [
      "100%|██████████| 33000/33000 [11:24<00:00, 48.19it/s]\n"
     ]
    }
   ],
   "source": [
    "# compute TFIDF Weighted Word2Vec for each review for X_test .\n",
    "tfidf_test_vectors = []; \n",
    "#row=0;\n",
    "for senttest in tqdm(sent_of_test): \n",
    "    sent_vec_test = np.zeros(200) \n",
    "    weight_sum_test =0; \n",
    "    for word_test in senttest: \n",
    "        if word_test in w2v_words and word_test in tfidf_features:\n",
    "            vec_3 = w2v_model.wv[word_test]\n",
    "            # obtain the tf_idfidf of a word in a sentence/review\n",
    "            #tfidf_test = final_tfidf_test[row, tfidf_features.index(word)]\n",
    "            tfidf_test = dictionary[word_test]*(senttest.count(word_test)/len(senttest))\n",
    "            sent_vec_test += (vec_3 * tfidf_test)\n",
    "            weight_sum_test += tfidf_test\n",
    "    if weight_sum_test != 0:\n",
    "        sent_vec_test /= weight_sum_test\n",
    "    tfidf_test_vectors.append(sent_vec_test)\n",
    "    row += 1"
   ]
  },
  {
   "cell_type": "markdown",
   "metadata": {
    "colab_type": "text",
    "id": "rSbdTsqMZiWM"
   },
   "source": [
    "## KNN using brute"
   ]
  },
  {
   "cell_type": "code",
   "execution_count": 66,
   "metadata": {
    "colab": {
     "base_uri": "https://localhost:8080/",
     "height": 294
    },
    "colab_type": "code",
    "id": "96OA-W5jMtLJ",
    "outputId": "1dfe800e-0c18-4620-8f4f-09616e08f519"
   },
   "outputs": [
    {
     "data": {
      "image/png": "[encoded data removed]",
      "text/plain": [
       "<Figure size 432x288 with 1 Axes>"
      ]
     },
     "metadata": {
      "tags": []
     },
     "output_type": "display_data"
    }
   ],
   "source": [
    "\n",
    "train_w2v_l1 = []\n",
    "cv_w2v_l1= []\n",
    "for b in C:\n",
    "    neigh_w2v_l1 = KNeighborsClassifier(n_neighbors=b,algorithm='kd_tree')\n",
    "    model_w2v_l1 = neigh_w2v_l1.fit(tfidf_train_vectors, y_train)\n",
    "    y_train_predw2v_l1 =  model_w2v_l1.predict_proba(tfidf_train_vectors)[:,1]\n",
    "    y_cv_predw2v_l1 =  model_w2v_l1.predict_proba(tfidf_cv_vectors)[:,1]\n",
    "    train_w2v_l1.append(roc_auc_score(y_train,y_train_predw2v_l1))\n",
    "    cv_w2v_l1.append(roc_auc_score(y_cv, y_cv_predw2v_l1))\n",
    "    \n",
    "#plt.plot(C,train_auc_tfidf_l1,label='Train AUC')\n",
    "#plt.plot(C,cv_auc_tfidf_l1, label='CV AUC')\n",
    "plt.plot(np.log(C), train_w2v_l1, label='Train AUC')\n",
    "plt.plot(np.log(C), cv_w2v_l1, label='CV AUC')\n",
    "plt.legend()\n",
    "plt.xlabel(\"K: hyperparameter\")\n",
    "plt.ylabel(\"AUC\")\n",
    "plt.title(\"ERROR PLOTS\")\n",
    "plt.show()"
   ]
  },
  {
   "cell_type": "code",
   "execution_count": 67,
   "metadata": {
    "colab": {
     "base_uri": "https://localhost:8080/",
     "height": 51
    },
    "colab_type": "code",
    "id": "8toR9hGAaxMF",
    "outputId": "00c4f3ed-0633-4852-a7c0-8fa7192b755b"
   },
   "outputs": [
    {
     "name": "stdout",
     "output_type": "stream",
     "text": [
      "\n",
      "The optimal number of cv value in C is 51.000000.\n"
     ]
    }
   ],
   "source": [
    "optimal_alpha_tfw2v_cv = C[cv_w2v_l1.index(max(cv_w2v_l1))]\n",
    "print('\\nThe optimal number of cv value in C is %f.' % optimal_alpha_tfw2v_cv)"
   ]
  },
  {
   "cell_type": "code",
   "execution_count": 68,
   "metadata": {
    "colab": {
     "base_uri": "https://localhost:8080/",
     "height": 68
    },
    "colab_type": "code",
    "id": "H5Loif9QbrXT",
    "outputId": "7eacff33-558c-4408-9a06-fa90f8e9b845"
   },
   "outputs": [
    {
     "data": {
      "text/plain": [
       "KNeighborsClassifier(algorithm='auto', leaf_size=30, metric='minkowski',\n",
       "           metric_params=None, n_jobs=None, n_neighbors=51, p=2,\n",
       "           weights='uniform')"
      ]
     },
     "execution_count": 68,
     "metadata": {
      "tags": []
     },
     "output_type": "execute_result"
    }
   ],
   "source": [
    "# instantiate learning model alpha = optimal_alpha\n",
    "optimal_w2v_l1 = KNeighborsClassifier(n_neighbors=optimal_alpha_tfw2v_cv)\n",
    "# fitting the model\n",
    "optimal_w2v_l1.fit(tfidf_train_vectors, y_train)"
   ]
  },
  {
   "cell_type": "code",
   "execution_count": 69,
   "metadata": {
    "colab": {
     "base_uri": "https://localhost:8080/",
     "height": 51
    },
    "colab_type": "code",
    "id": "CzjU-ULrbzBY",
    "outputId": "1d45f027-21e5-4c44-ae5d-6e7f9ce7dea6"
   },
   "outputs": [
    {
     "name": "stdout",
     "output_type": "stream",
     "text": [
      "\n",
      "The Auc socre for value= 51.000000 is 0.584535%\n"
     ]
    }
   ],
   "source": [
    "pred_tfw2v_l1=optimal_w2v_l1.predict(tfidf_test_vectors)#test\n",
    "pred_tfw2v_train_l1=optimal_w2v_l1.predict(tfidf_train_vectors)\n",
    "# evaluate accuracy on test data\n",
    "from sklearn.metrics import roc_auc_score\n",
    "auc_of_l1 = roc_auc_score(y_test, pred_tfw2v_l1)\n",
    "print('\\nThe Auc socre for value= %f is %f%%' % (optimal_alpha_tfw2v_cv, auc_of_l1))"
   ]
  },
  {
   "cell_type": "code",
   "execution_count": 70,
   "metadata": {
    "colab": {
     "base_uri": "https://localhost:8080/",
     "height": 690
    },
    "colab_type": "code",
    "id": "x2lgF4_kcQjx",
    "outputId": "a80df27b-e6f4-4b75-f560-b194793ca6c4"
   },
   "outputs": [
    {
     "name": "stdout",
     "output_type": "stream",
     "text": [
      "[[  936  4298]\n",
      " [  271 27495]]\n",
      "   \n"
     ]
    },
    {
     "data": {
      "image/png": "[encoded data removed]",
      "text/plain": [
       "<Figure size 432x288 with 2 Axes>"
      ]
     },
     "metadata": {
      "tags": []
     },
     "output_type": "display_data"
    },
    {
     "name": "stdout",
     "output_type": "stream",
     "text": [
      "*************************************************************************************************\n",
      "[[ 1332  5676]\n",
      " [  334 37548]]\n",
      "   \n"
     ]
    },
    {
     "data": {
      "image/png": "[encoded data removed]",
      "text/plain": [
       "<Figure size 432x288 with 2 Axes>"
      ]
     },
     "metadata": {
      "tags": []
     },
     "output_type": "display_data"
    }
   ],
   "source": [
    "# Confusion Matrix\n",
    "from sklearn.metrics import confusion_matrix\n",
    "cm_w2v = confusion_matrix(y_test, pred_tfw2v_l1)\n",
    "print(cm_w2v)\n",
    "print('   ')\n",
    "# plotting confusion matrix to describe the performance of classifier.\n",
    "import seaborn as sns\n",
    "class_label = [\"negative\", \"positive\"]\n",
    "df_conf_w2v = pd.DataFrame(cm_w2v, index = class_label, columns = class_label)\n",
    "sns.heatmap(df_conf_w2v, annot = True, fmt = \"d\")\n",
    "plt.title(\"Confusion Matrix\")\n",
    "plt.xlabel(\"Predicted Label\")\n",
    "plt.ylabel(\"True Label\")\n",
    "plt.show()\n",
    "\n",
    "print('*************************************************************************************************')\n",
    "\n",
    "cm_w2v1 = confusion_matrix(y_train, pred_tfw2v_train_l1)\n",
    "print(cm_w2v1)\n",
    "print('   ')\n",
    "# plotting confusion matrix to describe the performance of classifier.\n",
    "import seaborn as sns\n",
    "#class_label1 = [\"negative\", \"positive\"]\n",
    "df_conf1_w2v = pd.DataFrame(cm_w2v1, index = class_label, columns = class_label)\n",
    "sns.heatmap(df_conf1_w2v, annot = True, fmt = \"d\")\n",
    "plt.title(\"Confusion Matrix\")\n",
    "plt.xlabel(\"Predicted Label\")\n",
    "plt.ylabel(\"True Label\")\n",
    "plt.show()"
   ]
  },
  {
   "cell_type": "code",
   "execution_count": 71,
   "metadata": {
    "colab": {
     "base_uri": "https://localhost:8080/",
     "height": 294
    },
    "colab_type": "code",
    "id": "G06B_-DGddOC",
    "outputId": "dd639d4c-501f-417f-f0c9-159e1a433ce0"
   },
   "outputs": [
    {
     "data": {
      "image/png": "[encoded data removed]",
      "text/plain": [
       "<Figure size 432x288 with 1 Axes>"
      ]
     },
     "metadata": {
      "tags": []
     },
     "output_type": "display_data"
    }
   ],
   "source": [
    "### Computing ROC curve and ROC area for predictions on l1 validation set\n",
    "from sklearn import metrics\n",
    "y_test_tfw2v_predict = optimal_w2v_l1.predict_proba(tfidf_test_vectors)[:,1]\n",
    "y_train_tfw2v_predict = optimal_w2v_l1.predict_proba(tfidf_train_vectors)[:,1]\n",
    "fpr,tpr,_ =  metrics.roc_curve(y_train,y_train_tfw2v_predict) \n",
    "fpr_l1,tpr_l1, _ = metrics.roc_curve(y_test,y_test_tfw2v_predict)\n",
    "\n",
    "roc_auc = auc(fpr_l1, tpr_l1) \n",
    "roc_auc1 = auc(fpr,tpr) \n",
    "### Plot\n",
    "plt.figure()\n",
    "lw = 3\n",
    "plt.plot(fpr_l1, tpr_l1, color='darkorange',\n",
    "         lw=lw, label='ROC curve_test (area = %0.2f)' % roc_auc)\n",
    "plt.plot( fpr,tpr, color='navy', lw=lw, linestyle='--',label='ROC curve_train (area = %0.2f)' % roc_auc1)\n",
    "plt.xlim([0.0, 1.0])\n",
    "plt.ylim([0.0, 1.05])\n",
    "plt.xlabel('False Positive Rate')\n",
    "plt.ylabel('True Positive Rate')\n",
    "plt.title('Roc_Auc curve')\n",
    "plt.legend()\n",
    "plt.show()"
   ]
  },
  {
   "cell_type": "markdown",
   "metadata": {
    "colab_type": "text",
    "id": "uTSf4tjWg3zS"
   },
   "source": [
    "## Applying KNN using kd_tree"
   ]
  },
  {
   "cell_type": "code",
   "execution_count": 72,
   "metadata": {
    "colab": {
     "base_uri": "https://localhost:8080/",
     "height": 34
    },
    "colab_type": "code",
    "id": "Gnc0BYaj_4oW",
    "outputId": "84fe1d63-7074-4cd9-f11b-62798635151f"
   },
   "outputs": [
    {
     "name": "stderr",
     "output_type": "stream",
     "text": [
      "100%|██████████| 8978/8978 [02:56<00:00, 50.97it/s]\n"
     ]
    }
   ],
   "source": [
    "# TF-IDF weighted Word2Vec\n",
    "#tfidf_vectorizer = TfidfVectorizer()\n",
    "\n",
    "# final_tf_idf1 is the sparse matrix with row= sentence, col=word and cell_val = tfidf\n",
    "final_tfidf_train1 = tfidf_vectorizer.fit_transform(X1_train)\n",
    "final_tfidf_test1 = tfidf_vectorizer.transform(X1_test)\n",
    "final_tfidf_cv1 = tfidf_vectorizer.transform(X1_cv)\n",
    "#dictionary = dict(zip(tfidf_vectorizer.get_feature_names(), list(tfidf_vectorizer.idf_)))\n",
    "\n",
    "# tfidf words/col-names\n",
    "#tfidf_features = tfidf_vectorizer.get_feature_names()\n",
    "\n",
    "# compute TFIDF Weighted Word2Vec for each review for X1_train .\n",
    "tfidf_train_vectors1 = []; \n",
    "row=0;\n",
    "for senttrain1 in tqdm(sent_of_train1): \n",
    "    sent_vec_train1 = np.zeros(200)\n",
    "    weight_sum_train1 =0; \n",
    "    for word_train1 in senttrain1: \n",
    "        if word_train1 in w2v_words1 and word_train1 in tfidf_features:\n",
    "            vec_11 = w2v_model1.wv[word_train1]\n",
    "            # obtain the tf_idfidf of a word in a sentence/review\n",
    "            #tfidf_train = final_tfidf_train[row, tfidf_features.index(word_train)]\n",
    "            tfidf_train1 = dictionary[word_train1]*(senttrain1.count(word_train1)/len(senttrain1))\n",
    "            sent_vec_train1 += (vec_11 * tfidf_train1)\n",
    "            weight_sum_train1 += tfidf_train1\n",
    "    if weight_sum_train1 != 0:\n",
    "        sent_vec_train1 /= weight_sum_train1\n",
    "    tfidf_train_vectors1.append(sent_vec_train1)\n",
    "    row += 1"
   ]
  },
  {
   "cell_type": "code",
   "execution_count": 73,
   "metadata": {
    "colab": {
     "base_uri": "https://localhost:8080/",
     "height": 34
    },
    "colab_type": "code",
    "id": "zSqfsTXuEL4-",
    "outputId": "16afb7fa-272c-4023-93f6-c79bfad958d5"
   },
   "outputs": [
    {
     "name": "stderr",
     "output_type": "stream",
     "text": [
      "100%|██████████| 4422/4422 [01:27<00:00, 50.31it/s]\n"
     ]
    }
   ],
   "source": [
    "# compute TFIDF Weighted Word2Vec for each review for X1_cv .\n",
    "tfidf_cv_vectors1 = []; \n",
    "#row=0;\n",
    "for sentcv1 in tqdm(sent_of_cv1): \n",
    "    sent_vec_cv1 = np.zeros(200) \n",
    "    weight_sum_cv1 =0; \n",
    "    for word_cv1 in sentcv1: \n",
    "        if word_cv1 in w2v_words1 and word_cv1 in tfidf_features:\n",
    "            vec_21 = w2v_model1.wv[word_cv1]\n",
    "            # obtain the tf_idfidf of a word in a sentence/review\n",
    "            #tfidf_cv = final_tfidf_cv[row, tfidf_features.index(word)]\n",
    "            tfidf_cv1 = dictionary[word_cv1]*(sentcv1.count(word_cv1)/len(sentcv1))\n",
    "            sent_vec_cv1 += (vec_21 * tfidf_cv1)\n",
    "            weight_sum_cv1 += tfidf_cv1\n",
    "    if weight_sum_cv1 != 0:\n",
    "        sent_vec_cv1 /= weight_sum_cv1\n",
    "    tfidf_cv_vectors1.append(sent_vec_cv1)\n",
    "    row += 1"
   ]
  },
  {
   "cell_type": "code",
   "execution_count": 74,
   "metadata": {
    "colab": {
     "base_uri": "https://localhost:8080/",
     "height": 34
    },
    "colab_type": "code",
    "id": "ruFPWmmqEL5E",
    "outputId": "c5d258c4-21d3-4ec8-8f1e-efea01d4f0d2"
   },
   "outputs": [
    {
     "name": "stderr",
     "output_type": "stream",
     "text": [
      "100%|██████████| 6600/6600 [02:10<00:00, 50.59it/s]\n"
     ]
    }
   ],
   "source": [
    "# compute TFIDF Weighted Word2Vec for each review for X_test .\n",
    "tfidf_test_vectors1 = []; \n",
    "#row=0;\n",
    "for senttest1 in tqdm(sent_of_test1): \n",
    "    sent_vec_test1 = np.zeros(200) \n",
    "    weight_sum_test1 =0; \n",
    "    for word_test1 in senttest1: \n",
    "        if word_test1 in w2v_words1 and word_test1 in tfidf_features:\n",
    "            vec_31 = w2v_model1.wv[word_test1]\n",
    "            # obtain the tf_idfidf of a word in a sentence/review\n",
    "            #tfidf_test = final_tfidf_test[row, tfidf_features.index(word)]\n",
    "            tfidf_test1 = dictionary[word_test1]*(senttest1.count(word_test1)/len(senttest1))\n",
    "            sent_vec_test1 += (vec_31 * tfidf_test1)\n",
    "            weight_sum_test1 += tfidf_test1\n",
    "    if weight_sum_test1 != 0:\n",
    "        sent_vec_test1 /= weight_sum_test\n",
    "    tfidf_test_vectors1.append(sent_vec_test1)\n",
    "    row += 1"
   ]
  },
  {
   "cell_type": "code",
   "execution_count": 75,
   "metadata": {
    "colab": {
     "base_uri": "https://localhost:8080/",
     "height": 294
    },
    "colab_type": "code",
    "id": "a6UG9tKAhJj8",
    "outputId": "889704c9-fa51-41d4-8c4a-ef93df8d1ec8"
   },
   "outputs": [
    {
     "data": {
      "image/png": "[encoded data removed]",
      "text/plain": [
       "<Figure size 432x288 with 1 Axes>"
      ]
     },
     "metadata": {
      "tags": []
     },
     "output_type": "display_data"
    }
   ],
   "source": [
    "\n",
    "train_w2v_l2 = []\n",
    "cv_w2v_l2= []\n",
    "for t in C:\n",
    "    neigh_w2v_l2 = KNeighborsClassifier(n_neighbors=t,algorithm='kd_tree')\n",
    "    model_w2v_l2 = neigh_w2v_l2.fit(tfidf_train_vectors1, y1_train)\n",
    "    y_train_predw2v_l2 =  model_w2v_l2.predict_proba(tfidf_train_vectors1)[:,1]\n",
    "    y_cv_predw2v_l2 =  model_w2v_l2.predict_proba(tfidf_cv_vectors1)[:,1]\n",
    "    train_w2v_l2.append(roc_auc_score(y1_train,y_train_predw2v_l2))\n",
    "    cv_w2v_l2.append(roc_auc_score(y1_cv, y_cv_predw2v_l2))\n",
    "    \n",
    "#plt.plot(C,train_auc_tfidf_l1,label='Train AUC')\n",
    "#plt.plot(C,cv_auc_tfidf_l1, label='CV AUC')\n",
    "plt.plot(np.log(C), train_w2v_l2, label='Train AUC')\n",
    "plt.plot(np.log(C), cv_w2v_l2, label='CV AUC')\n",
    "plt.legend()\n",
    "plt.xlabel(\"K: hyperparameter\")\n",
    "plt.ylabel(\"AUC\")\n",
    "plt.title(\"ERROR PLOTS\")\n",
    "plt.show()"
   ]
  },
  {
   "cell_type": "code",
   "execution_count": 76,
   "metadata": {
    "colab": {
     "base_uri": "https://localhost:8080/",
     "height": 51
    },
    "colab_type": "code",
    "id": "-QuVnt-BjgGJ",
    "outputId": "a78f59ff-9ba0-4a24-b17a-27caec28fc67"
   },
   "outputs": [
    {
     "name": "stdout",
     "output_type": "stream",
     "text": [
      "\n",
      "The optimal number of cv value in C is 31.000000.\n"
     ]
    }
   ],
   "source": [
    "optimal_alpha_cv = C[cv_w2v_l2.index(max(cv_w2v_l2))]\n",
    "print('\\nThe optimal number of cv value in C is %f.' % optimal_alpha_cv)"
   ]
  },
  {
   "cell_type": "code",
   "execution_count": 77,
   "metadata": {
    "colab": {
     "base_uri": "https://localhost:8080/",
     "height": 68
    },
    "colab_type": "code",
    "id": "GuayXmArj-YW",
    "outputId": "43ae005c-019d-4028-a994-d2fc48153e81"
   },
   "outputs": [
    {
     "data": {
      "text/plain": [
       "KNeighborsClassifier(algorithm='auto', leaf_size=30, metric='minkowski',\n",
       "           metric_params=None, n_jobs=None, n_neighbors=31, p=2,\n",
       "           weights='uniform')"
      ]
     },
     "execution_count": 77,
     "metadata": {
      "tags": []
     },
     "output_type": "execute_result"
    }
   ],
   "source": [
    "# instantiate learning model alpha = optimal_alpha\n",
    "optimal_w2v_l2 = KNeighborsClassifier(n_neighbors=optimal_alpha_cv)\n",
    "# fitting the model\n",
    "optimal_w2v_l2.fit(tfidf_train_vectors1, y1_train)"
   ]
  },
  {
   "cell_type": "code",
   "execution_count": 78,
   "metadata": {
    "colab": {
     "base_uri": "https://localhost:8080/",
     "height": 51
    },
    "colab_type": "code",
    "id": "VAPAvbV6kYco",
    "outputId": "50ba5227-04d6-4941-94d2-42fd0918d30d"
   },
   "outputs": [
    {
     "name": "stdout",
     "output_type": "stream",
     "text": [
      "\n",
      "The Auc socre for value= 31.000000 is 0.504990%\n"
     ]
    }
   ],
   "source": [
    "pred_tfw2v_l2=optimal_w2v_l2.predict(tfidf_test_vectors1) #test\n",
    "pred_tfw2v_train_l2=optimal_w2v_l2.predict(tfidf_train_vectors1)\n",
    "# evaluate accuracy on test data\n",
    "#from sklearn.metrics import roc_auc_score\n",
    "auc_tfw2v_l2 = roc_auc_score(y1_test, pred_tfw2v_l2)\n",
    "print('\\nThe Auc socre for value= %f is %f%%' % (optimal_alpha_cv, auc_tfw2v_l2))"
   ]
  },
  {
   "cell_type": "code",
   "execution_count": 79,
   "metadata": {
    "colab": {
     "base_uri": "https://localhost:8080/",
     "height": 690
    },
    "colab_type": "code",
    "id": "QWE8q4uGj-nz",
    "outputId": "925be1ce-1540-4b57-bd1b-36164707601a"
   },
   "outputs": [
    {
     "name": "stdout",
     "output_type": "stream",
     "text": [
      "[[  13 1057]\n",
      " [  12 5518]]\n",
      "   \n"
     ]
    },
    {
     "data": {
      "image/png": "[encoded data removed]",
      "text/plain": [
       "<Figure size 432x288 with 2 Axes>"
      ]
     },
     "metadata": {
      "tags": []
     },
     "output_type": "display_data"
    },
    {
     "name": "stdout",
     "output_type": "stream",
     "text": [
      "*************************************************************************************************\n",
      "[[  15 1346]\n",
      " [   5 7612]]\n",
      "   \n"
     ]
    },
    {
     "data": {
      "image/png": "[encoded data removed]",
      "text/plain": [
       "<Figure size 432x288 with 2 Axes>"
      ]
     },
     "metadata": {
      "tags": []
     },
     "output_type": "display_data"
    }
   ],
   "source": [
    "# Confusion Matrix\n",
    "#from sklearn.metrics import confusion_matrix\n",
    "cm_l2 = confusion_matrix(y1_test, pred_tfw2v_l2)\n",
    "print(cm_l2)\n",
    "print('   ')\n",
    "# plotting confusion matrix to describe the performance of classifier.\n",
    "#import seaborn as sns\n",
    "#class_label = [\"negative\", \"positive\"]\n",
    "df_cm_w2vl2 = pd.DataFrame(cm_l2, index = class_label, columns = class_label)\n",
    "sns.heatmap(df_cm_w2vl2, annot = True, fmt = \"d\")\n",
    "plt.title(\"Confusion Matrix\")\n",
    "plt.xlabel(\"Predicted Label\")\n",
    "plt.ylabel(\"True Label\")\n",
    "plt.show()\n",
    "\n",
    "print('*************************************************************************************************')\n",
    "\n",
    "cm_w2vl2 = confusion_matrix(y1_train, pred_tfw2v_train_l2)\n",
    "print(cm_w2vl2)\n",
    "print('   ')\n",
    "# plotting confusion matrix to describe the performance of classifier.\n",
    "#import seaborn as sns\n",
    "#class_label = [\"negative\", \"positive\"]\n",
    "df_cm_w2vl2 = pd.DataFrame(cm_w2vl2, index = class_label, columns = class_label)\n",
    "sns.heatmap(df_cm_w2vl2, annot = True, fmt = \"d\")\n",
    "plt.title(\"Confusion Matrix\")\n",
    "plt.xlabel(\"Predicted Label\")\n",
    "plt.ylabel(\"True Label\")\n",
    "plt.show()"
   ]
  },
  {
   "cell_type": "code",
   "execution_count": 80,
   "metadata": {
    "colab": {
     "base_uri": "https://localhost:8080/",
     "height": 294
    },
    "colab_type": "code",
    "id": "NNqcD1fdlUoY",
    "outputId": "8e02549e-67f3-4610-85e9-f467693464fb"
   },
   "outputs": [
    {
     "data": {
      "image/png": "[encoded data removed]",
      "text/plain": [
       "<Figure size 432x288 with 1 Axes>"
      ]
     },
     "metadata": {
      "tags": []
     },
     "output_type": "display_data"
    }
   ],
   "source": [
    "### Computing ROC curve and ROC area for predictions on l1 validation set\n",
    "#from sklearn import metrics\n",
    "y_test_w2v_predictl2 =  optimal_w2v_l2.predict_proba(tfidf_test_vectors1)[:,1]\n",
    "y_train_w2v_predictl2 =  optimal_w2v_l2.predict_proba(tfidf_train_vectors1)[:,1]\n",
    "train_fpr,train_tpr,_ =  metrics.roc_curve(y1_train,y_train_w2v_predictl2) \n",
    "fpr_l2,tpr_l2, _ = metrics.roc_curve(y1_test,y_test_w2v_predictl2)\n",
    "\n",
    "roc_auc_test_l2 = auc(fpr_l2, tpr_l2) \n",
    "roc_auc_train_l2 = auc(train_fpr,train_tpr) \n",
    "### Plot\n",
    "plt.figure()\n",
    "#lw = 3\n",
    "plt.plot(fpr_l2, tpr_l2, color='darkorange',\n",
    "         lw=lw, label='ROC curve_test (area = %0.2f)' % roc_auc_test_l2)\n",
    "plt.plot( train_fpr,train_tpr,color='navy', lw=lw, linestyle='--',label='ROC curve_train (area = %0.2f)' % roc_auc_train_l2)\n",
    "plt.xlim([0.0, 1.0])\n",
    "plt.ylim([0.0, 1.05])\n",
    "plt.xlabel('False Positive Rate')\n",
    "plt.ylabel('True Positive Rate')\n",
    "plt.title('Roc_Auc curve')\n",
    "plt.legend()\n",
    "plt.show()"
   ]
  },
  {
   "cell_type": "markdown",
   "metadata": {
    "colab_type": "text",
    "id": "9NYKDg3Sgj9h"
   },
   "source": [
    "### Conclussion :-"
   ]
  },
  {
   "cell_type": "markdown",
   "metadata": {},
   "source": [
    "- From Above KNN project.,You have to observe that.,<br> I have taken 100000 points to train using brute and <br> i have taken 20000 points using kd_tree., <br> For all two above algorithms i have showed three metrics called<br>1. plotting curve using train and cv <br> 2. Confusion matrix <br> 3. plotting curve (ROC_AUC curve) using Train and test for true positve and false positive rate.."
   ]
  },
  {
   "cell_type": "raw",
   "metadata": {},
   "source": [
    "|=====================================|\n",
    "| Featurization   | Model    | Score  |\n",
    "|=====================================|\n",
    "|Bag of Words     | Brute    |0.537379|\n",
    "|                 |----------|--------|\n",
    "|                 | kd_tree  |0.517444|\n",
    "|-------------------------------------|\n",
    "|TF-IDF           | Brute    |0.501259|\n",
    "|                 |----------|--------|\n",
    "|                 | kd_tree  |0.5000  |\n",
    "|-------------------------------------|\n",
    "|AVG W2V          | Brute    |0.61327 |\n",
    "|                 |----------|--------|\n",
    "|                 | kd_tree  |0.5000  |\n",
    "|-------------------------------------|\n",
    "|TF-IDF W2V       | Brute    |0.58453 |\n",
    "|                 |----------|--------|\n",
    "|                 | kd_tree  |0.50499 |\n",
    "|-------------------------------------|"
   ]
  }
 ],
 "metadata": {
  "accelerator": "GPU",
  "colab": {
   "collapsed_sections": [],
   "name": "knn.ipynb",
   "provenance": [],
   "version": "0.3.2"
  },
  "kernelspec": {
   "display_name": "Python 3",
   "language": "python",
   "name": "python3"
  },
  "language_info": {
   "codemirror_mode": {
    "name": "ipython",
    "version": 3
   },
   "file_extension": ".py",
   "mimetype": "text/x-python",
   "name": "python",
   "nbconvert_exporter": "python",
   "pygments_lexer": "ipython3",
   "version": "3.6.5"
  }
 },
 "nbformat": 4,
 "nbformat_minor": 1
}
